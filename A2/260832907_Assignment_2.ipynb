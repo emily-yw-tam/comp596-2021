{
  "nbformat": 4,
  "nbformat_minor": 0,
  "metadata": {
    "colab": {
      "name": "NL2DS-F2021-Assignment-2-regular-expressions.ipynb",
      "provenance": []
    },
    "kernelspec": {
      "name": "python3",
      "display_name": "Python 3"
    }
  },
  "cells": [
    {
      "cell_type": "markdown",
      "metadata": {
        "id": "jpPo-0zjUGkA"
      },
      "source": [
        "# Problem 1\n",
        "\n",
        "\n",
        "---\n",
        "\n"
      ]
    },
    {
      "cell_type": "markdown",
      "metadata": {
        "id": "EORfPYZbhqyf"
      },
      "source": [
        "\n",
        "Write regular expressions that match the output strings in the given set of input strings. \n",
        "\n",
        "\n",
        "#### Problem 1.1\n",
        "Input: \n",
        "```\n",
        "xyxyxyx\n",
        "xxyx\n",
        "xxyyxx\n",
        "xyx\n",
        "xxyxyxyx\n",
        "```\n",
        "\n",
        "Output:\n",
        "```\n",
        "xxyx\n",
        "xxyxyxyx\n",
        "```\n",
        "\n",
        "Note: Do not use the regular expression which resembles `(word1|word2)`. This defeats the purpose of the regular expression."
      ]
    },
    {
      "cell_type": "code",
      "metadata": {
        "id": "s3fasx98SqmM",
        "colab": {
          "base_uri": "https://localhost:8080/"
        },
        "outputId": "aa6f0aa7-73cd-450d-e2c1-16a1af38ac73"
      },
      "source": [
        "import re\n",
        "\n",
        "words = [\"xyxyxyx\", \"xxyx\", \"xxyyxx\", \"xyx\", \"xxyxyxyx\"]\n",
        "pattern = re.compile(\"^xxyx\")\n",
        "for word in words:\n",
        "  if pattern.match(word):\n",
        "    print(word)"
      ],
      "execution_count": 1,
      "outputs": [
        {
          "output_type": "stream",
          "name": "stdout",
          "text": [
            "xxyx\n",
            "xxyxyxyx\n"
          ]
        }
      ]
    },
    {
      "cell_type": "markdown",
      "metadata": {
        "id": "alK7uvOIV0bn"
      },
      "source": [
        "#### Problem 1.2\n",
        "Input: \n",
        "```\n",
        "xyz\n",
        "xz\n",
        "xyyy\n",
        "yyz\n",
        "```\n",
        "\n",
        "Output:\n",
        "```\n",
        "xyz\n",
        "xyyy\n",
        "```"
      ]
    },
    {
      "cell_type": "code",
      "metadata": {
        "id": "iX-nXRtzWkKr",
        "colab": {
          "base_uri": "https://localhost:8080/"
        },
        "outputId": "22015ec5-308a-4969-992d-74c2c99c943f"
      },
      "source": [
        "words = [\"xyz\", \"xz\", \"xyyy\", \"yyz\"]\n",
        "pattern = re.compile(\"^xy\")\n",
        "for word in words:\n",
        "  if pattern.match(word):\n",
        "    print(word)"
      ],
      "execution_count": 2,
      "outputs": [
        {
          "output_type": "stream",
          "name": "stdout",
          "text": [
            "xyz\n",
            "xyyy\n"
          ]
        }
      ]
    },
    {
      "cell_type": "markdown",
      "metadata": {
        "id": "YvPLBmtpWvv6"
      },
      "source": [
        "#### Problem 1.3\n",
        "\n",
        "Input: \n",
        "```\n",
        "xyz\n",
        "xyyyyyyyy\n",
        "xzz\n",
        "xyzyzyzyz\n",
        "xz\n",
        "xzzyyyyzyzzzz\n",
        " ```\n",
        "\n",
        "Output:\n",
        "```\n",
        "xyz\n",
        "xyyyyyyyy\n",
        "xyzyzyzyz\n",
        "```\n",
        "\n",
        "Note: Use positive strings to define the regular expression."
      ]
    },
    {
      "cell_type": "code",
      "metadata": {
        "id": "O91H-AuRZZGg",
        "colab": {
          "base_uri": "https://localhost:8080/"
        },
        "outputId": "2655fd3b-e0f4-41b0-aba1-a6f4d1235f59"
      },
      "source": [
        "words = [\"xyz\", \"xyyyyyyyy\", \"xzz\", \"xyzyzyzyz\", \"xz\", \"xzzyyyyzyzzzz\"]\n",
        "pattern = re.compile(\"^xy\")\n",
        "for word in words:\n",
        "  if pattern.match(word):\n",
        "    print(word)"
      ],
      "execution_count": 3,
      "outputs": [
        {
          "output_type": "stream",
          "name": "stdout",
          "text": [
            "xyz\n",
            "xyyyyyyyy\n",
            "xyzyzyzyz\n"
          ]
        }
      ]
    },
    {
      "cell_type": "markdown",
      "metadata": {
        "id": "Sl29e2t8Zfnh"
      },
      "source": [
        "#### Problem 1.4\n",
        "\n",
        "Input:\n",
        "```\n",
        "x. y\n",
        "x?  Y\n",
        "x! y\n",
        "x y\n",
        "x.  Y\n",
        "x Y\n",
        "```\n",
        "\n",
        "Ouput:\n",
        "```\n",
        "x. y\n",
        "x?  Y\n",
        "x! y\n",
        "x.  Y\n",
        "```\n"
      ]
    },
    {
      "cell_type": "code",
      "metadata": {
        "id": "X1pJaNywZedv",
        "colab": {
          "base_uri": "https://localhost:8080/"
        },
        "outputId": "7c13f453-e7d3-48b1-a9fa-493777196e06"
      },
      "source": [
        "words = [\"x. y\", \"x?  Y\", \"x! y\", \"x y\", \"x.  Y\", \"x Y\"]\n",
        "pattern = re.compile(\"^x[.?!]\\s\")\n",
        "for word in words:\n",
        "  if pattern.match(word):\n",
        "    print(word)"
      ],
      "execution_count": 4,
      "outputs": [
        {
          "output_type": "stream",
          "name": "stdout",
          "text": [
            "x. y\n",
            "x?  Y\n",
            "x! y\n",
            "x.  Y\n"
          ]
        }
      ]
    },
    {
      "cell_type": "markdown",
      "metadata": {
        "id": "lWCIT3K_wYPH"
      },
      "source": [
        "#### Problem 1.5\n",
        "\n",
        "Input:\n",
        "\n",
        "```\n",
        "<html class=\"client-nojs\" lang=\"en\" dir=\"ltr\">\n",
        "<table class=\"infobox biota\" style=\"text-align: left; width: 200px; font-size: 100%\">\n",
        "```\n",
        "\n",
        "Output:\n",
        "```\n",
        "tags:\n",
        "html\n",
        "table\n",
        "\n",
        "keys:\n",
        "class\n",
        "lang\n",
        "dir\n",
        "style\n",
        "\n",
        "values:\n",
        "client-nojs; infobox biota\n",
        "en\n",
        "ltr\n",
        "text-align: left; width: 200px; font-size: 100%\n",
        "```\n",
        "\n",
        "Note: Your code must either use the function [group()](https://docs.python.org/3/library/re.html#re.Match.group) or the concept of groups in [findall()](https://docs.python.org/3/library/re.html#re.findall) to find tags, keys and values. Do not write separate regular expression for each input line. The code has to make use of the same regular expression for each line."
      ]
    },
    {
      "cell_type": "code",
      "metadata": {
        "id": "X0FT9S_Jvnbc",
        "colab": {
          "base_uri": "https://localhost:8080/"
        },
        "outputId": "53ceaa13-191d-4a86-b36f-b209e27c6406"
      },
      "source": [
        "input_lines = ['<html class=\"client-nojs\" lang=\"en\" dir=\"ltr\">', '<table class=\"infobox biota\" style=\"text-align: left; width: 200px; font-size: 100%\">']\n",
        "\n",
        "tags = []\n",
        "kv = {}\n",
        "\n",
        "for line in input_lines:\n",
        "    # tags begin with <\n",
        "    # keys end with =\n",
        "    # values begin with \", end with \", and follow keys\n",
        "    tags_keys_values = re.findall(r\"\\<\\w+|\\w+=|\\\"[^\\\"]+\\\"\", line)\n",
        "\n",
        "    count = 0\n",
        "    for x in tags_keys_values:\n",
        "        if x[0] == '<':\n",
        "            if x[1:] not in tags:\n",
        "                tags.append(x[1:])\n",
        "\n",
        "        elif x[-1] == '=':\n",
        "            # not in dictionary\n",
        "            if x[:-1] not in kv:\n",
        "                if len(tags_keys_values) > count+1:\n",
        "                    value = tags_keys_values[count+1][1:-1]\n",
        "                    kv[x[:-1]] = [value]\n",
        "\n",
        "            # in dictionary\n",
        "            else:\n",
        "                if len(tags_keys_values) > count+1:\n",
        "                    value = tags_keys_values[count+1][1:-1]\n",
        "                    kv[x[:-1]].append(value)\n",
        "\n",
        "        count += 1\n",
        "\n",
        "print(\"tags:\")\n",
        "for tag in tags:\n",
        "    print(tag)\n",
        "\n",
        "print()\n",
        "print(\"keys:\")\n",
        "for key in kv.keys():\n",
        "    print(key)\n",
        "\n",
        "print()\n",
        "print(\"values:\")\n",
        "for value in kv.values():\n",
        "    print(*value, sep=\"; \")"
      ],
      "execution_count": 5,
      "outputs": [
        {
          "output_type": "stream",
          "name": "stdout",
          "text": [
            "tags:\n",
            "html\n",
            "table\n",
            "\n",
            "keys:\n",
            "class\n",
            "lang\n",
            "dir\n",
            "style\n",
            "\n",
            "values:\n",
            "client-nojs; infobox biota\n",
            "en\n",
            "ltr\n",
            "text-align: left; width: 200px; font-size: 100%\n"
          ]
        }
      ]
    },
    {
      "cell_type": "markdown",
      "metadata": {
        "id": "0SehLKyuQM4Q"
      },
      "source": [
        "\n",
        "\n",
        "## Problem 2 and 3\n",
        "\n",
        "See https://docs.google.com/document/d/1h4JoDFDeZpuD7msH0_1jgIz8EvjPMbB7pL_5qTksFY8/edit?usp=sharing\n",
        "\n"
      ]
    }
  ]
}