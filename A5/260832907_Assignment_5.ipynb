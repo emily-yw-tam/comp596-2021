{
  "nbformat": 4,
  "nbformat_minor": 0,
  "metadata": {
    "colab": {
      "name": "260832907-Assignment-5",
      "provenance": [],
      "collapsed_sections": []
    },
    "kernelspec": {
      "display_name": "Python 3",
      "name": "python3"
    }
  },
  "cells": [
    {
      "cell_type": "markdown",
      "metadata": {
        "id": "aNeTggCnm61l"
      },
      "source": [
        "In this assignment, we will look at some cross-linguistic word form data and use some of the tools we saw in class to build family trees of languages based on the sound forms of words---otherwise known as \"optimal phylogenies.\" \n",
        "\n",
        "We will use data from the following recent paper.\n",
        "\n",
        "\n",
        "[Dellert, Johannes, Daneyko, T., Muench, A., Ladygina, A., Buch, A., Clarius, N., Grigorjew, I., Balabel, M., Boga, H. I., Baysarova, Z., Muehlenbernd, R., Wahle, J., and Jaeger, G. (2020). Northeuralex: A wide-coverage lexical database of northern eurasia. Language Resources & Evaluation, 54(273–301).](https://drive.google.com/file/d/1ptoMNctdJs99wPWfBUGbw4_X60NtKl9B/view?usp=sharing)\n",
        "\n",
        "This data  can be found [here](http://northeuralex.org/) as well.\n",
        "\n",
        "Copy the data to your drive folder from: [here](https://drive.google.com/file/d/1Mfa8XayBFJb0fY8wfinODw90yuRal8AD/view?usp=sharing), [here](https://drive.google.com/file/d/1AQqkscWKlq3quw-BWjB8xqSQzm7-uDtt/view?usp=sharing), and [here](https://drive.google.com/file/d/1R7ZLEzDW9QKUen3BjItPsySaUPCpu7xk/view?usp=sharing)."
      ]
    },
    {
      "cell_type": "markdown",
      "metadata": {
        "id": "1B3OQyn4zZRo"
      },
      "source": [
        "***Question 1:*** What is the Northeuralex dataset? Give a brief overview. What kind of data is it? What is its purpose? How was it constructed? No need to go into all of the particulars (such as fields of the files), just give an overview of no more than one paragraph that gives the gist for someone unfamiliar with the dataset.\n",
        "\n",
        "**Q1: The Northeuralex dataset is a large-scale lexicostatistical database composed of 1,016 concepts across 107 languages from Northern Eurasia.  The dataset was designed to be used as the basis for creating new benchmarks in computational historical linguistics.  Ultimately, the creators hoped to improve computational moodels of language relationship and language contact.  Lexical data from more than 20 language families is provided by this dataset in a unified IPA coding.  This was generated automatically based on phonological descriptions for the languages or by making use of extended dictionary orthographics.**\n",
        "\n",
        "\n",
        "Let's read in the wordforms in this dataset."
      ]
    },
    {
      "cell_type": "code",
      "metadata": {
        "colab": {
          "base_uri": "https://localhost:8080/"
        },
        "id": "OmekMHWXj5mD",
        "outputId": "345f5bee-1c72-48a0-c6c7-33bbe7c4d7ad"
      },
      "source": [
        "from google.colab import drive\n",
        "drive.mount('/content/drive/')"
      ],
      "execution_count": 1,
      "outputs": [
        {
          "output_type": "stream",
          "name": "stdout",
          "text": [
            "Drive already mounted at /content/drive/; to attempt to forcibly remount, call drive.mount(\"/content/drive/\", force_remount=True).\n"
          ]
        }
      ]
    },
    {
      "cell_type": "code",
      "metadata": {
        "id": "Wysjka4Jj7jX"
      },
      "source": [
        "import pandas as pd"
      ],
      "execution_count": 2,
      "outputs": []
    },
    {
      "cell_type": "code",
      "metadata": {
        "colab": {
          "base_uri": "https://localhost:8080/",
          "height": 423
        },
        "id": "wfVlyC-buz1i",
        "outputId": "64bc3f40-af15-4039-b68c-2cabc8c6e053"
      },
      "source": [
        "wordforms=pd.read_csv(\"/content/drive/My Drive/northeuralex.csv\")\n",
        "display(wordforms)"
      ],
      "execution_count": 3,
      "outputs": [
        {
          "output_type": "display_data",
          "data": {
            "text/html": [
              "<div>\n",
              "<style scoped>\n",
              "    .dataframe tbody tr th:only-of-type {\n",
              "        vertical-align: middle;\n",
              "    }\n",
              "\n",
              "    .dataframe tbody tr th {\n",
              "        vertical-align: top;\n",
              "    }\n",
              "\n",
              "    .dataframe thead th {\n",
              "        text-align: right;\n",
              "    }\n",
              "</style>\n",
              "<table border=\"1\" class=\"dataframe\">\n",
              "  <thead>\n",
              "    <tr style=\"text-align: right;\">\n",
              "      <th></th>\n",
              "      <th>Language_ID</th>\n",
              "      <th>Glottocode</th>\n",
              "      <th>Concept_ID</th>\n",
              "      <th>Word_Form</th>\n",
              "      <th>rawIPA</th>\n",
              "      <th>IPA</th>\n",
              "      <th>ASJP</th>\n",
              "      <th>List</th>\n",
              "      <th>Dolgo</th>\n",
              "      <th>Next_Step</th>\n",
              "    </tr>\n",
              "  </thead>\n",
              "  <tbody>\n",
              "    <tr>\n",
              "      <th>0</th>\n",
              "      <td>fin</td>\n",
              "      <td>finn1318</td>\n",
              "      <td>Auge::N</td>\n",
              "      <td>silmä</td>\n",
              "      <td>silmæ</td>\n",
              "      <td>s i l m æ</td>\n",
              "      <td>silmE</td>\n",
              "      <td>SILME</td>\n",
              "      <td>SVRMV</td>\n",
              "      <td>validate</td>\n",
              "    </tr>\n",
              "    <tr>\n",
              "      <th>1</th>\n",
              "      <td>fin</td>\n",
              "      <td>finn1318</td>\n",
              "      <td>Ohr::N</td>\n",
              "      <td>korva</td>\n",
              "      <td>kɔrʋɑ</td>\n",
              "      <td>k ɔ r ʋ ɑ</td>\n",
              "      <td>korwa</td>\n",
              "      <td>KURWA</td>\n",
              "      <td>KVRWV</td>\n",
              "      <td>validate</td>\n",
              "    </tr>\n",
              "    <tr>\n",
              "      <th>2</th>\n",
              "      <td>fin</td>\n",
              "      <td>finn1318</td>\n",
              "      <td>Nase::N</td>\n",
              "      <td>nenä</td>\n",
              "      <td>nɛnæ</td>\n",
              "      <td>n ɛ n æ</td>\n",
              "      <td>nEnE</td>\n",
              "      <td>NENE</td>\n",
              "      <td>NVNV</td>\n",
              "      <td>validate</td>\n",
              "    </tr>\n",
              "    <tr>\n",
              "      <th>3</th>\n",
              "      <td>fin</td>\n",
              "      <td>finn1318</td>\n",
              "      <td>Mund::N</td>\n",
              "      <td>suu</td>\n",
              "      <td>suː</td>\n",
              "      <td>s u u</td>\n",
              "      <td>su</td>\n",
              "      <td>SY</td>\n",
              "      <td>SV</td>\n",
              "      <td>validate</td>\n",
              "    </tr>\n",
              "    <tr>\n",
              "      <th>4</th>\n",
              "      <td>fin</td>\n",
              "      <td>finn1318</td>\n",
              "      <td>Zahn::N</td>\n",
              "      <td>hammas</td>\n",
              "      <td>hɑmːɑs</td>\n",
              "      <td>h ɑ m m ɑ s</td>\n",
              "      <td>hamas</td>\n",
              "      <td>HAMAS</td>\n",
              "      <td>HVMVS</td>\n",
              "      <td>validate</td>\n",
              "    </tr>\n",
              "    <tr>\n",
              "      <th>...</th>\n",
              "      <td>...</td>\n",
              "      <td>...</td>\n",
              "      <td>...</td>\n",
              "      <td>...</td>\n",
              "      <td>...</td>\n",
              "      <td>...</td>\n",
              "      <td>...</td>\n",
              "      <td>...</td>\n",
              "      <td>...</td>\n",
              "      <td>...</td>\n",
              "    </tr>\n",
              "    <tr>\n",
              "      <th>121608</th>\n",
              "      <td>cmn</td>\n",
              "      <td>mand1415</td>\n",
              "      <td>verkaufen::V</td>\n",
              "      <td>卖</td>\n",
              "      <td>mâɪ̯</td>\n",
              "      <td>m a ɪ</td>\n",
              "      <td>mai</td>\n",
              "      <td>MAI</td>\n",
              "      <td>MV</td>\n",
              "      <td>validate</td>\n",
              "    </tr>\n",
              "    <tr>\n",
              "      <th>121609</th>\n",
              "      <td>cmn</td>\n",
              "      <td>mand1415</td>\n",
              "      <td>bezahlen::V</td>\n",
              "      <td>付钱</td>\n",
              "      <td>fû t͡ɕʰjɛ̌n</td>\n",
              "      <td>f u _ t͡ɕ ʰ j ɛ n</td>\n",
              "      <td>fuCyEn</td>\n",
              "      <td>BY_CJE2N</td>\n",
              "      <td>PV_KJV1N</td>\n",
              "      <td>validate</td>\n",
              "    </tr>\n",
              "    <tr>\n",
              "      <th>121610</th>\n",
              "      <td>cmn</td>\n",
              "      <td>mand1415</td>\n",
              "      <td>zahlen::V</td>\n",
              "      <td>支付</td>\n",
              "      <td>t͡ʂɨ˦fû</td>\n",
              "      <td>t ʂ ɨ f u</td>\n",
              "      <td>C3fu</td>\n",
              "      <td>CI1BY</td>\n",
              "      <td>KV1PV</td>\n",
              "      <td>validate</td>\n",
              "    </tr>\n",
              "    <tr>\n",
              "      <th>121611</th>\n",
              "      <td>cmn</td>\n",
              "      <td>mand1415</td>\n",
              "      <td>beherrschen::V</td>\n",
              "      <td>统治</td>\n",
              "      <td>tʰʊ̂̌ŋt͡ʂɨ̂</td>\n",
              "      <td>tʰ ʊ ŋ t ʂ ɨ</td>\n",
              "      <td>tuNC3</td>\n",
              "      <td>TY2NCI</td>\n",
              "      <td>TV1NKV</td>\n",
              "      <td>validate</td>\n",
              "    </tr>\n",
              "    <tr>\n",
              "      <th>121612</th>\n",
              "      <td>cmn</td>\n",
              "      <td>mand1415</td>\n",
              "      <td>ertragen::V</td>\n",
              "      <td>忍耐</td>\n",
              "      <td>ɻə̂̌nnâɪ̯</td>\n",
              "      <td>ɻ ə n n a ɪ</td>\n",
              "      <td>L3nai</td>\n",
              "      <td>RE2NNAI</td>\n",
              "      <td>RV1NNV</td>\n",
              "      <td>validate</td>\n",
              "    </tr>\n",
              "  </tbody>\n",
              "</table>\n",
              "<p>121613 rows × 10 columns</p>\n",
              "</div>"
            ],
            "text/plain": [
              "       Language_ID Glottocode      Concept_ID  ...      List     Dolgo Next_Step\n",
              "0              fin   finn1318         Auge::N  ...     SILME     SVRMV  validate\n",
              "1              fin   finn1318          Ohr::N  ...     KURWA     KVRWV  validate\n",
              "2              fin   finn1318         Nase::N  ...      NENE      NVNV  validate\n",
              "3              fin   finn1318         Mund::N  ...        SY        SV  validate\n",
              "4              fin   finn1318         Zahn::N  ...     HAMAS     HVMVS  validate\n",
              "...            ...        ...             ...  ...       ...       ...       ...\n",
              "121608         cmn   mand1415    verkaufen::V  ...       MAI        MV  validate\n",
              "121609         cmn   mand1415     bezahlen::V  ...  BY_CJE2N  PV_KJV1N  validate\n",
              "121610         cmn   mand1415       zahlen::V  ...     CI1BY     KV1PV  validate\n",
              "121611         cmn   mand1415  beherrschen::V  ...    TY2NCI    TV1NKV  validate\n",
              "121612         cmn   mand1415     ertragen::V  ...   RE2NNAI    RV1NNV  validate\n",
              "\n",
              "[121613 rows x 10 columns]"
            ]
          },
          "metadata": {}
        }
      ]
    },
    {
      "cell_type": "code",
      "metadata": {
        "colab": {
          "base_uri": "https://localhost:8080/"
        },
        "id": "UJk48JVgSoI7",
        "outputId": "8967f484-0146-493b-a305-17db2ed5730f"
      },
      "source": [
        "x = wordforms['rawIPA'].unique()\n",
        "y = wordforms['IPA'].unique()\n",
        "\n",
        "print(x.shape)\n",
        "print(y.shape)"
      ],
      "execution_count": 4,
      "outputs": [
        {
          "output_type": "stream",
          "name": "stdout",
          "text": [
            "(104068,)\n",
            "(102738,)\n"
          ]
        }
      ]
    },
    {
      "cell_type": "markdown",
      "metadata": {
        "id": "1jBeO3Civbry"
      },
      "source": [
        "***Question 2:*** Describe the meaning of the `Langauge_ID`, `Concept_ID`, `rawIPA` and `IPA` columns of the data.\n",
        "\n",
        "**Q2:**\n",
        "\n",
        "**Language_ID is the 3 letter abbreviation for the language.  There are 107 languages.**\n",
        "\n",
        "**Concept_ID is the concept in German.  There are 1016 concepts.**\n",
        "\n",
        "**rawIPA is the direct phonetic transcription of a word using the International Phonetic Alphabet.**\n",
        "\n",
        "**IPA is the phonetic transcription of a word using the International Phonetic Alphabet that has been modified to include spaces around phonemes.  There are less unique IPA strings than rawIPA strings, suggesting that certain 'rawIPA' values have the same 'IPA' string**\n",
        "\n",
        "Now let's read in some metadata about the languages."
      ]
    },
    {
      "cell_type": "code",
      "metadata": {
        "colab": {
          "base_uri": "https://localhost:8080/",
          "height": 423
        },
        "id": "ov3JtI5lvc0g",
        "outputId": "1b0f6c5c-4979-492a-a7b3-361af1b2fa5e"
      },
      "source": [
        "languages=pd.read_csv(\"/content/drive/My Drive/northeuralex-languages.csv\")\n",
        "display(languages)"
      ],
      "execution_count": 5,
      "outputs": [
        {
          "output_type": "display_data",
          "data": {
            "text/html": [
              "<div>\n",
              "<style scoped>\n",
              "    .dataframe tbody tr th:only-of-type {\n",
              "        vertical-align: middle;\n",
              "    }\n",
              "\n",
              "    .dataframe tbody tr th {\n",
              "        vertical-align: top;\n",
              "    }\n",
              "\n",
              "    .dataframe thead th {\n",
              "        text-align: right;\n",
              "    }\n",
              "</style>\n",
              "<table border=\"1\" class=\"dataframe\">\n",
              "  <thead>\n",
              "    <tr style=\"text-align: right;\">\n",
              "      <th></th>\n",
              "      <th>name</th>\n",
              "      <th>glotto_code</th>\n",
              "      <th>iso_code</th>\n",
              "      <th>family</th>\n",
              "      <th>subfamily</th>\n",
              "      <th>latitude</th>\n",
              "      <th>longitude</th>\n",
              "    </tr>\n",
              "  </thead>\n",
              "  <tbody>\n",
              "    <tr>\n",
              "      <th>0</th>\n",
              "      <td>Finnish</td>\n",
              "      <td>finn1318</td>\n",
              "      <td>fin</td>\n",
              "      <td>Uralic</td>\n",
              "      <td>Finnic</td>\n",
              "      <td>61.0000</td>\n",
              "      <td>24.4500</td>\n",
              "    </tr>\n",
              "    <tr>\n",
              "      <th>1</th>\n",
              "      <td>North Karelian</td>\n",
              "      <td>kare1335</td>\n",
              "      <td>krl</td>\n",
              "      <td>Uralic</td>\n",
              "      <td>Finnic</td>\n",
              "      <td>65.1691</td>\n",
              "      <td>30.8655</td>\n",
              "    </tr>\n",
              "    <tr>\n",
              "      <th>2</th>\n",
              "      <td>Olonets Karelian</td>\n",
              "      <td>livv1243</td>\n",
              "      <td>olo</td>\n",
              "      <td>Uralic</td>\n",
              "      <td>Finnic</td>\n",
              "      <td>61.0000</td>\n",
              "      <td>33.0000</td>\n",
              "    </tr>\n",
              "    <tr>\n",
              "      <th>3</th>\n",
              "      <td>Veps</td>\n",
              "      <td>veps1250</td>\n",
              "      <td>vep</td>\n",
              "      <td>Uralic</td>\n",
              "      <td>Finnic</td>\n",
              "      <td>60.3353</td>\n",
              "      <td>34.7865</td>\n",
              "    </tr>\n",
              "    <tr>\n",
              "      <th>4</th>\n",
              "      <td>Estonian</td>\n",
              "      <td>esto1258</td>\n",
              "      <td>ekk</td>\n",
              "      <td>Uralic</td>\n",
              "      <td>Finnic</td>\n",
              "      <td>59.2500</td>\n",
              "      <td>24.7500</td>\n",
              "    </tr>\n",
              "    <tr>\n",
              "      <th>...</th>\n",
              "      <td>...</td>\n",
              "      <td>...</td>\n",
              "      <td>...</td>\n",
              "      <td>...</td>\n",
              "      <td>...</td>\n",
              "      <td>...</td>\n",
              "      <td>...</td>\n",
              "    </tr>\n",
              "    <tr>\n",
              "      <th>102</th>\n",
              "      <td>Dargwa</td>\n",
              "      <td>darg1241</td>\n",
              "      <td>dar</td>\n",
              "      <td>Nakh-Daghestanian</td>\n",
              "      <td>Daghestanian</td>\n",
              "      <td>42.4257</td>\n",
              "      <td>47.4388</td>\n",
              "    </tr>\n",
              "    <tr>\n",
              "      <th>103</th>\n",
              "      <td>Chechen</td>\n",
              "      <td>chec1245</td>\n",
              "      <td>che</td>\n",
              "      <td>Nakh-Daghestanian</td>\n",
              "      <td>Nakh</td>\n",
              "      <td>43.5000</td>\n",
              "      <td>45.5000</td>\n",
              "    </tr>\n",
              "    <tr>\n",
              "      <th>104</th>\n",
              "      <td>Standard Arabic</td>\n",
              "      <td>stan1318</td>\n",
              "      <td>arb</td>\n",
              "      <td>Afro-Asiatic</td>\n",
              "      <td>Semitic</td>\n",
              "      <td>27.9625</td>\n",
              "      <td>43.8525</td>\n",
              "    </tr>\n",
              "    <tr>\n",
              "      <th>105</th>\n",
              "      <td>Modern Hebrew</td>\n",
              "      <td>hebr1245</td>\n",
              "      <td>heb</td>\n",
              "      <td>Afro-Asiatic</td>\n",
              "      <td>Semitic</td>\n",
              "      <td>31.1056</td>\n",
              "      <td>35.0179</td>\n",
              "    </tr>\n",
              "    <tr>\n",
              "      <th>106</th>\n",
              "      <td>Mandarin Chinese</td>\n",
              "      <td>mand1415</td>\n",
              "      <td>cmn</td>\n",
              "      <td>Sino-Tibetan</td>\n",
              "      <td>Sinitic</td>\n",
              "      <td>40.0209</td>\n",
              "      <td>116.2280</td>\n",
              "    </tr>\n",
              "  </tbody>\n",
              "</table>\n",
              "<p>107 rows × 7 columns</p>\n",
              "</div>"
            ],
            "text/plain": [
              "                 name glotto_code iso_code  ...     subfamily latitude  longitude\n",
              "0             Finnish    finn1318      fin  ...        Finnic  61.0000    24.4500\n",
              "1      North Karelian    kare1335      krl  ...        Finnic  65.1691    30.8655\n",
              "2    Olonets Karelian    livv1243      olo  ...        Finnic  61.0000    33.0000\n",
              "3                Veps    veps1250      vep  ...        Finnic  60.3353    34.7865\n",
              "4            Estonian    esto1258      ekk  ...        Finnic  59.2500    24.7500\n",
              "..                ...         ...      ...  ...           ...      ...        ...\n",
              "102            Dargwa    darg1241      dar  ...  Daghestanian  42.4257    47.4388\n",
              "103           Chechen    chec1245      che  ...          Nakh  43.5000    45.5000\n",
              "104   Standard Arabic    stan1318      arb  ...       Semitic  27.9625    43.8525\n",
              "105     Modern Hebrew    hebr1245      heb  ...       Semitic  31.1056    35.0179\n",
              "106  Mandarin Chinese    mand1415      cmn  ...       Sinitic  40.0209   116.2280\n",
              "\n",
              "[107 rows x 7 columns]"
            ]
          },
          "metadata": {}
        }
      ]
    },
    {
      "cell_type": "code",
      "metadata": {
        "colab": {
          "base_uri": "https://localhost:8080/"
        },
        "id": "PYc1f6cWtvWj",
        "outputId": "f6987e33-32f9-46e1-b22d-a4bde7a9610b"
      },
      "source": [
        "x = wordforms['Language_ID'].unique()\n",
        "y = languages['iso_code'].unique()\n",
        "\n",
        "for i in range(107):\n",
        "    if x[i] != y[i]:\n",
        "        print(x[i], y[i])"
      ],
      "execution_count": 6,
      "outputs": [
        {
          "output_type": "stream",
          "name": "stdout",
          "text": [
            "chv sah\n",
            "sah chv\n",
            "xal bua\n",
            "bua xal\n"
          ]
        }
      ]
    },
    {
      "cell_type": "markdown",
      "metadata": {
        "id": "XhxJBBlbvtzx"
      },
      "source": [
        "***Question 3:*** Describe the meaning of the `Family`, `iso_code`, and `subfamily` columns of the data.\n",
        "\n",
        "**Q3:**\n",
        "\n",
        "**Family refers to the language family of the word.**\n",
        "\n",
        "**iso_code is the 3 letter abbreviation for the language and matches the Language_ID from northeuralex.csv.  There are 107 languages.**\n",
        "\n",
        "**subfamily is the specific branch of the family.**\n",
        "\n",
        "Now let's read in some further data about the concepts.\n",
        "\n"
      ]
    },
    {
      "cell_type": "code",
      "metadata": {
        "colab": {
          "base_uri": "https://localhost:8080/",
          "height": 495
        },
        "id": "Um70edh5vyiB",
        "outputId": "d3d3aefc-2706-4a0e-9b21-f74284df5950"
      },
      "source": [
        "concepts=pd.read_csv(\"/content/drive/My Drive/northeuralex-concepts.csv\")\n",
        "display(concepts)"
      ],
      "execution_count": 7,
      "outputs": [
        {
          "output_type": "display_data",
          "data": {
            "text/html": [
              "<div>\n",
              "<style scoped>\n",
              "    .dataframe tbody tr th:only-of-type {\n",
              "        vertical-align: middle;\n",
              "    }\n",
              "\n",
              "    .dataframe tbody tr th {\n",
              "        vertical-align: top;\n",
              "    }\n",
              "\n",
              "    .dataframe thead th {\n",
              "        text-align: right;\n",
              "    }\n",
              "</style>\n",
              "<table border=\"1\" class=\"dataframe\">\n",
              "  <thead>\n",
              "    <tr style=\"text-align: right;\">\n",
              "      <th></th>\n",
              "      <th>number</th>\n",
              "      <th>position_in_ranking</th>\n",
              "      <th>ranking_value</th>\n",
              "      <th>id_nelex</th>\n",
              "      <th>gloss_en</th>\n",
              "      <th>gloss_ru</th>\n",
              "      <th>annotation_en</th>\n",
              "      <th>annotation_en.1</th>\n",
              "      <th>annotation_ru</th>\n",
              "      <th>concepticon</th>\n",
              "      <th>concepticon_id</th>\n",
              "      <th>concepticon_proposed</th>\n",
              "      <th>comments</th>\n",
              "    </tr>\n",
              "  </thead>\n",
              "  <tbody>\n",
              "    <tr>\n",
              "      <th>0</th>\n",
              "      <td>1</td>\n",
              "      <td>44</td>\n",
              "      <td>-2,539237</td>\n",
              "      <td>Auge::N</td>\n",
              "      <td>eye</td>\n",
              "      <td>глаз</td>\n",
              "      <td>[[Anatomie]]</td>\n",
              "      <td>[[anatomy]]</td>\n",
              "      <td>[[анатомия]]</td>\n",
              "      <td>EYE</td>\n",
              "      <td>1248</td>\n",
              "      <td>EYE</td>\n",
              "      <td>NaN</td>\n",
              "    </tr>\n",
              "    <tr>\n",
              "      <th>1</th>\n",
              "      <td>2</td>\n",
              "      <td>34</td>\n",
              "      <td>-2,649194</td>\n",
              "      <td>Ohr::N</td>\n",
              "      <td>ear</td>\n",
              "      <td>ухо</td>\n",
              "      <td>[[Anatomie]]</td>\n",
              "      <td>[[anatomy]]</td>\n",
              "      <td>[[анатомия]]</td>\n",
              "      <td>EAR</td>\n",
              "      <td>1247</td>\n",
              "      <td>EAR</td>\n",
              "      <td>NaN</td>\n",
              "    </tr>\n",
              "    <tr>\n",
              "      <th>2</th>\n",
              "      <td>3</td>\n",
              "      <td>149</td>\n",
              "      <td>-1,995463</td>\n",
              "      <td>Nase::N</td>\n",
              "      <td>nose</td>\n",
              "      <td>нос</td>\n",
              "      <td>[[Anatomie]]</td>\n",
              "      <td>[[anatomy]]</td>\n",
              "      <td>[[анатомия]]</td>\n",
              "      <td>NOSE</td>\n",
              "      <td>1221</td>\n",
              "      <td>NOSE</td>\n",
              "      <td>NaN</td>\n",
              "    </tr>\n",
              "    <tr>\n",
              "      <th>3</th>\n",
              "      <td>4</td>\n",
              "      <td>25</td>\n",
              "      <td>-2,762589</td>\n",
              "      <td>Mund::N</td>\n",
              "      <td>mouth</td>\n",
              "      <td>рот</td>\n",
              "      <td>[[Anatomie]]</td>\n",
              "      <td>[[anatomy]]</td>\n",
              "      <td>[[анатомия]]</td>\n",
              "      <td>MOUTH</td>\n",
              "      <td>674</td>\n",
              "      <td>MOUTH</td>\n",
              "      <td>NaN</td>\n",
              "    </tr>\n",
              "    <tr>\n",
              "      <th>4</th>\n",
              "      <td>5</td>\n",
              "      <td>31</td>\n",
              "      <td>-2,670705</td>\n",
              "      <td>Zahn::N</td>\n",
              "      <td>tooth</td>\n",
              "      <td>зуб</td>\n",
              "      <td>[BSP:menschlicher Schneidezahn]</td>\n",
              "      <td>[EX:human incisor]</td>\n",
              "      <td>[НАПР:человека]</td>\n",
              "      <td>TOOTH</td>\n",
              "      <td>1380</td>\n",
              "      <td>TOOTH</td>\n",
              "      <td>NaN</td>\n",
              "    </tr>\n",
              "    <tr>\n",
              "      <th>...</th>\n",
              "      <td>...</td>\n",
              "      <td>...</td>\n",
              "      <td>...</td>\n",
              "      <td>...</td>\n",
              "      <td>...</td>\n",
              "      <td>...</td>\n",
              "      <td>...</td>\n",
              "      <td>...</td>\n",
              "      <td>...</td>\n",
              "      <td>...</td>\n",
              "      <td>...</td>\n",
              "      <td>...</td>\n",
              "      <td>...</td>\n",
              "    </tr>\n",
              "    <tr>\n",
              "      <th>1011</th>\n",
              "      <td>1012</td>\n",
              "      <td>140</td>\n",
              "      <td>-2,029052</td>\n",
              "      <td>verkaufen::V</td>\n",
              "      <td>sell</td>\n",
              "      <td>продать</td>\n",
              "      <td>[BSP:Ware]</td>\n",
              "      <td>[EX:goods]</td>\n",
              "      <td>[НАПР:товар]</td>\n",
              "      <td>SELL</td>\n",
              "      <td>1571</td>\n",
              "      <td>SELL</td>\n",
              "      <td>NaN</td>\n",
              "    </tr>\n",
              "    <tr>\n",
              "      <th>1012</th>\n",
              "      <td>1013</td>\n",
              "      <td>198</td>\n",
              "      <td>-1,822012</td>\n",
              "      <td>bezahlen::V</td>\n",
              "      <td>pay for</td>\n",
              "      <td>заплатить</td>\n",
              "      <td>[BSP:Ware]</td>\n",
              "      <td>[EX:goods]</td>\n",
              "      <td>[НАПР:за товар]</td>\n",
              "      <td>NaN</td>\n",
              "      <td>0</td>\n",
              "      <td>PAY_FOR</td>\n",
              "      <td>NaN</td>\n",
              "    </tr>\n",
              "    <tr>\n",
              "      <th>1013</th>\n",
              "      <td>1014</td>\n",
              "      <td>235</td>\n",
              "      <td>-1,715766</td>\n",
              "      <td>zahlen::V</td>\n",
              "      <td>pay</td>\n",
              "      <td>платить</td>\n",
              "      <td>[BSP:im Restaurant]</td>\n",
              "      <td>[EX:in a restaurant]</td>\n",
              "      <td>[НАПР:в ресторане]</td>\n",
              "      <td>PAY</td>\n",
              "      <td>718</td>\n",
              "      <td>PAY</td>\n",
              "      <td>NaN</td>\n",
              "    </tr>\n",
              "    <tr>\n",
              "      <th>1014</th>\n",
              "      <td>1015</td>\n",
              "      <td>899</td>\n",
              "      <td>0,118183</td>\n",
              "      <td>beherrschen::V</td>\n",
              "      <td>rule</td>\n",
              "      <td>владеть</td>\n",
              "      <td>[BSP:Land]</td>\n",
              "      <td>[EX:country]</td>\n",
              "      <td>[НАПР:страной]</td>\n",
              "      <td>RULE</td>\n",
              "      <td>1846</td>\n",
              "      <td>RULE</td>\n",
              "      <td>NaN</td>\n",
              "    </tr>\n",
              "    <tr>\n",
              "      <th>1015</th>\n",
              "      <td>1016</td>\n",
              "      <td>751</td>\n",
              "      <td>-0,491453</td>\n",
              "      <td>ertragen::V</td>\n",
              "      <td>endure</td>\n",
              "      <td>вытерпеть</td>\n",
              "      <td>[BSP:Schmerz]</td>\n",
              "      <td>[EX:pain]</td>\n",
              "      <td>[выдержать, НАПР:боль]</td>\n",
              "      <td>ENDURE</td>\n",
              "      <td>833</td>\n",
              "      <td>ENDURE</td>\n",
              "      <td>NaN</td>\n",
              "    </tr>\n",
              "  </tbody>\n",
              "</table>\n",
              "<p>1016 rows × 13 columns</p>\n",
              "</div>"
            ],
            "text/plain": [
              "      number  position_in_ranking  ... concepticon_proposed comments\n",
              "0          1                   44  ...                  EYE      NaN\n",
              "1          2                   34  ...                  EAR      NaN\n",
              "2          3                  149  ...                 NOSE      NaN\n",
              "3          4                   25  ...                MOUTH      NaN\n",
              "4          5                   31  ...                TOOTH      NaN\n",
              "...      ...                  ...  ...                  ...      ...\n",
              "1011    1012                  140  ...                 SELL      NaN\n",
              "1012    1013                  198  ...              PAY_FOR      NaN\n",
              "1013    1014                  235  ...                  PAY      NaN\n",
              "1014    1015                  899  ...                 RULE      NaN\n",
              "1015    1016                  751  ...               ENDURE      NaN\n",
              "\n",
              "[1016 rows x 13 columns]"
            ]
          },
          "metadata": {}
        }
      ]
    },
    {
      "cell_type": "code",
      "metadata": {
        "colab": {
          "base_uri": "https://localhost:8080/"
        },
        "id": "6W-FVH1ZvnOJ",
        "outputId": "dc7eeeeb-821f-48e2-b3d9-11e1c9a13b1f"
      },
      "source": [
        "x = wordforms['Concept_ID'].unique()\n",
        "y = concepts['id_nelex'].unique()\n",
        "\n",
        "print(x.shape)\n",
        "print(y.shape)"
      ],
      "execution_count": 8,
      "outputs": [
        {
          "output_type": "stream",
          "name": "stdout",
          "text": [
            "(1016,)\n",
            "(1016,)\n"
          ]
        }
      ]
    },
    {
      "cell_type": "markdown",
      "metadata": {
        "id": "rpwbBHZiv2dK"
      },
      "source": [
        "***Question 4:*** Describe the meaning of the `id_nelex`, `gloss_en`, and `position_in_ranking` columns of the data.\n",
        "\n",
        "**Q4:**\n",
        "\n",
        "**id_nelex is the concept in German and matches the Concept_ID from northeuralex.csv.  There are 1016 concepts.**\n",
        "\n",
        "**gloss_en is the word in English.**\n",
        "\n",
        "**position_in_ranking is the rank of a concept based on frequency of the concept.**\n",
        "\n",
        "It will be useful to merge all of the meta-information into the main wordforms dataframe."
      ]
    },
    {
      "cell_type": "code",
      "metadata": {
        "colab": {
          "base_uri": "https://localhost:8080/",
          "height": 755
        },
        "id": "Fztpd5H4P733",
        "outputId": "87568fcb-97d4-434b-fe12-96328fc9ce61"
      },
      "source": [
        "# Problem 1a: rename the approproate columns in the languages and concepts dataframes to make this merge possible.\n",
        "# change iso_code to Language_ID\n",
        "languages = languages.rename({'iso_code':'Language_ID'}, axis='columns')\n",
        "\n",
        "# change id_nelex to Concept_ID\n",
        "concepts = concepts.rename({'id_nelex':'Concept_ID'}, axis='columns')\n",
        "\n",
        "# Problem 1b: Use the merge function to merge the three dataframes into one.\n",
        "wordforms_l = wordforms.merge(languages, how='inner', on='Language_ID')\n",
        "wordforms_lc = wordforms_l.merge(concepts, how='inner', on='Concept_ID')\n",
        "\n",
        "display(wordforms_lc)"
      ],
      "execution_count": 9,
      "outputs": [
        {
          "output_type": "display_data",
          "data": {
            "text/html": [
              "<div>\n",
              "<style scoped>\n",
              "    .dataframe tbody tr th:only-of-type {\n",
              "        vertical-align: middle;\n",
              "    }\n",
              "\n",
              "    .dataframe tbody tr th {\n",
              "        vertical-align: top;\n",
              "    }\n",
              "\n",
              "    .dataframe thead th {\n",
              "        text-align: right;\n",
              "    }\n",
              "</style>\n",
              "<table border=\"1\" class=\"dataframe\">\n",
              "  <thead>\n",
              "    <tr style=\"text-align: right;\">\n",
              "      <th></th>\n",
              "      <th>Language_ID</th>\n",
              "      <th>Glottocode</th>\n",
              "      <th>Concept_ID</th>\n",
              "      <th>Word_Form</th>\n",
              "      <th>rawIPA</th>\n",
              "      <th>IPA</th>\n",
              "      <th>ASJP</th>\n",
              "      <th>List</th>\n",
              "      <th>Dolgo</th>\n",
              "      <th>Next_Step</th>\n",
              "      <th>name</th>\n",
              "      <th>glotto_code</th>\n",
              "      <th>family</th>\n",
              "      <th>subfamily</th>\n",
              "      <th>latitude</th>\n",
              "      <th>longitude</th>\n",
              "      <th>number</th>\n",
              "      <th>position_in_ranking</th>\n",
              "      <th>ranking_value</th>\n",
              "      <th>gloss_en</th>\n",
              "      <th>gloss_ru</th>\n",
              "      <th>annotation_en</th>\n",
              "      <th>annotation_en.1</th>\n",
              "      <th>annotation_ru</th>\n",
              "      <th>concepticon</th>\n",
              "      <th>concepticon_id</th>\n",
              "      <th>concepticon_proposed</th>\n",
              "      <th>comments</th>\n",
              "    </tr>\n",
              "  </thead>\n",
              "  <tbody>\n",
              "    <tr>\n",
              "      <th>0</th>\n",
              "      <td>fin</td>\n",
              "      <td>finn1318</td>\n",
              "      <td>Auge::N</td>\n",
              "      <td>silmä</td>\n",
              "      <td>silmæ</td>\n",
              "      <td>s i l m æ</td>\n",
              "      <td>silmE</td>\n",
              "      <td>SILME</td>\n",
              "      <td>SVRMV</td>\n",
              "      <td>validate</td>\n",
              "      <td>Finnish</td>\n",
              "      <td>finn1318</td>\n",
              "      <td>Uralic</td>\n",
              "      <td>Finnic</td>\n",
              "      <td>61.0000</td>\n",
              "      <td>24.4500</td>\n",
              "      <td>1</td>\n",
              "      <td>44</td>\n",
              "      <td>-2,539237</td>\n",
              "      <td>eye</td>\n",
              "      <td>глаз</td>\n",
              "      <td>[[Anatomie]]</td>\n",
              "      <td>[[anatomy]]</td>\n",
              "      <td>[[анатомия]]</td>\n",
              "      <td>EYE</td>\n",
              "      <td>1248</td>\n",
              "      <td>EYE</td>\n",
              "      <td>NaN</td>\n",
              "    </tr>\n",
              "    <tr>\n",
              "      <th>1</th>\n",
              "      <td>krl</td>\n",
              "      <td>kare1335</td>\n",
              "      <td>Auge::N</td>\n",
              "      <td>silmä</td>\n",
              "      <td>silmæ</td>\n",
              "      <td>s i l m æ</td>\n",
              "      <td>silmE</td>\n",
              "      <td>SILME</td>\n",
              "      <td>SVRMV</td>\n",
              "      <td>validate</td>\n",
              "      <td>North Karelian</td>\n",
              "      <td>kare1335</td>\n",
              "      <td>Uralic</td>\n",
              "      <td>Finnic</td>\n",
              "      <td>65.1691</td>\n",
              "      <td>30.8655</td>\n",
              "      <td>1</td>\n",
              "      <td>44</td>\n",
              "      <td>-2,539237</td>\n",
              "      <td>eye</td>\n",
              "      <td>глаз</td>\n",
              "      <td>[[Anatomie]]</td>\n",
              "      <td>[[anatomy]]</td>\n",
              "      <td>[[анатомия]]</td>\n",
              "      <td>EYE</td>\n",
              "      <td>1248</td>\n",
              "      <td>EYE</td>\n",
              "      <td>NaN</td>\n",
              "    </tr>\n",
              "    <tr>\n",
              "      <th>2</th>\n",
              "      <td>olo</td>\n",
              "      <td>livv1243</td>\n",
              "      <td>Auge::N</td>\n",
              "      <td>silmy</td>\n",
              "      <td>silmʏ</td>\n",
              "      <td>s i l m ʏ</td>\n",
              "      <td>silmi</td>\n",
              "      <td>SILMY</td>\n",
              "      <td>SVRMV</td>\n",
              "      <td>validate</td>\n",
              "      <td>Olonets Karelian</td>\n",
              "      <td>livv1243</td>\n",
              "      <td>Uralic</td>\n",
              "      <td>Finnic</td>\n",
              "      <td>61.0000</td>\n",
              "      <td>33.0000</td>\n",
              "      <td>1</td>\n",
              "      <td>44</td>\n",
              "      <td>-2,539237</td>\n",
              "      <td>eye</td>\n",
              "      <td>глаз</td>\n",
              "      <td>[[Anatomie]]</td>\n",
              "      <td>[[anatomy]]</td>\n",
              "      <td>[[анатомия]]</td>\n",
              "      <td>EYE</td>\n",
              "      <td>1248</td>\n",
              "      <td>EYE</td>\n",
              "      <td>NaN</td>\n",
              "    </tr>\n",
              "    <tr>\n",
              "      <th>3</th>\n",
              "      <td>vep</td>\n",
              "      <td>veps1250</td>\n",
              "      <td>Auge::N</td>\n",
              "      <td>sil'm</td>\n",
              "      <td>silʲm</td>\n",
              "      <td>s i lʲ m</td>\n",
              "      <td>silm</td>\n",
              "      <td>SILM</td>\n",
              "      <td>SVRM</td>\n",
              "      <td>validate</td>\n",
              "      <td>Veps</td>\n",
              "      <td>veps1250</td>\n",
              "      <td>Uralic</td>\n",
              "      <td>Finnic</td>\n",
              "      <td>60.3353</td>\n",
              "      <td>34.7865</td>\n",
              "      <td>1</td>\n",
              "      <td>44</td>\n",
              "      <td>-2,539237</td>\n",
              "      <td>eye</td>\n",
              "      <td>глаз</td>\n",
              "      <td>[[Anatomie]]</td>\n",
              "      <td>[[anatomy]]</td>\n",
              "      <td>[[анатомия]]</td>\n",
              "      <td>EYE</td>\n",
              "      <td>1248</td>\n",
              "      <td>EYE</td>\n",
              "      <td>NaN</td>\n",
              "    </tr>\n",
              "    <tr>\n",
              "      <th>4</th>\n",
              "      <td>ekk</td>\n",
              "      <td>esto1258</td>\n",
              "      <td>Auge::N</td>\n",
              "      <td>silm</td>\n",
              "      <td>sʲilm</td>\n",
              "      <td>sʲ i l m</td>\n",
              "      <td>silm</td>\n",
              "      <td>SILM</td>\n",
              "      <td>SVRM</td>\n",
              "      <td>validate</td>\n",
              "      <td>Estonian</td>\n",
              "      <td>esto1258</td>\n",
              "      <td>Uralic</td>\n",
              "      <td>Finnic</td>\n",
              "      <td>59.2500</td>\n",
              "      <td>24.7500</td>\n",
              "      <td>1</td>\n",
              "      <td>44</td>\n",
              "      <td>-2,539237</td>\n",
              "      <td>eye</td>\n",
              "      <td>глаз</td>\n",
              "      <td>[[Anatomie]]</td>\n",
              "      <td>[[anatomy]]</td>\n",
              "      <td>[[анатомия]]</td>\n",
              "      <td>EYE</td>\n",
              "      <td>1248</td>\n",
              "      <td>EYE</td>\n",
              "      <td>NaN</td>\n",
              "    </tr>\n",
              "    <tr>\n",
              "      <th>...</th>\n",
              "      <td>...</td>\n",
              "      <td>...</td>\n",
              "      <td>...</td>\n",
              "      <td>...</td>\n",
              "      <td>...</td>\n",
              "      <td>...</td>\n",
              "      <td>...</td>\n",
              "      <td>...</td>\n",
              "      <td>...</td>\n",
              "      <td>...</td>\n",
              "      <td>...</td>\n",
              "      <td>...</td>\n",
              "      <td>...</td>\n",
              "      <td>...</td>\n",
              "      <td>...</td>\n",
              "      <td>...</td>\n",
              "      <td>...</td>\n",
              "      <td>...</td>\n",
              "      <td>...</td>\n",
              "      <td>...</td>\n",
              "      <td>...</td>\n",
              "      <td>...</td>\n",
              "      <td>...</td>\n",
              "      <td>...</td>\n",
              "      <td>...</td>\n",
              "      <td>...</td>\n",
              "      <td>...</td>\n",
              "      <td>...</td>\n",
              "    </tr>\n",
              "    <tr>\n",
              "      <th>121608</th>\n",
              "      <td>che</td>\n",
              "      <td>chec1245</td>\n",
              "      <td>ertragen::V</td>\n",
              "      <td>садетта</td>\n",
              "      <td>sədetːə</td>\n",
              "      <td>s ə d e t t ə</td>\n",
              "      <td>s3det3</td>\n",
              "      <td>SETETE</td>\n",
              "      <td>SVTVTV</td>\n",
              "      <td>review</td>\n",
              "      <td>Chechen</td>\n",
              "      <td>chec1245</td>\n",
              "      <td>Nakh-Daghestanian</td>\n",
              "      <td>Nakh</td>\n",
              "      <td>43.5000</td>\n",
              "      <td>45.5000</td>\n",
              "      <td>1016</td>\n",
              "      <td>751</td>\n",
              "      <td>-0,491453</td>\n",
              "      <td>endure</td>\n",
              "      <td>вытерпеть</td>\n",
              "      <td>[BSP:Schmerz]</td>\n",
              "      <td>[EX:pain]</td>\n",
              "      <td>[выдержать, НАПР:боль]</td>\n",
              "      <td>ENDURE</td>\n",
              "      <td>833</td>\n",
              "      <td>ENDURE</td>\n",
              "      <td>NaN</td>\n",
              "    </tr>\n",
              "    <tr>\n",
              "      <th>121609</th>\n",
              "      <td>arb</td>\n",
              "      <td>stan1318</td>\n",
              "      <td>ertragen::V</td>\n",
              "      <td>أطاق</td>\n",
              "      <td>atˤaːqa</td>\n",
              "      <td>a tˤ a a q a</td>\n",
              "      <td>ataqa</td>\n",
              "      <td>ATAKA</td>\n",
              "      <td>VTVKV</td>\n",
              "      <td>validate</td>\n",
              "      <td>Standard Arabic</td>\n",
              "      <td>stan1318</td>\n",
              "      <td>Afro-Asiatic</td>\n",
              "      <td>Semitic</td>\n",
              "      <td>27.9625</td>\n",
              "      <td>43.8525</td>\n",
              "      <td>1016</td>\n",
              "      <td>751</td>\n",
              "      <td>-0,491453</td>\n",
              "      <td>endure</td>\n",
              "      <td>вытерпеть</td>\n",
              "      <td>[BSP:Schmerz]</td>\n",
              "      <td>[EX:pain]</td>\n",
              "      <td>[выдержать, НАПР:боль]</td>\n",
              "      <td>ENDURE</td>\n",
              "      <td>833</td>\n",
              "      <td>ENDURE</td>\n",
              "      <td>NaN</td>\n",
              "    </tr>\n",
              "    <tr>\n",
              "      <th>121610</th>\n",
              "      <td>arb</td>\n",
              "      <td>stan1318</td>\n",
              "      <td>ertragen::V</td>\n",
              "      <td>تحمل</td>\n",
              "      <td>taħamala</td>\n",
              "      <td>t a ħ a m a l a</td>\n",
              "      <td>taGamala</td>\n",
              "      <td>TAHAMALA</td>\n",
              "      <td>TVHVMVRV</td>\n",
              "      <td>validate</td>\n",
              "      <td>Standard Arabic</td>\n",
              "      <td>stan1318</td>\n",
              "      <td>Afro-Asiatic</td>\n",
              "      <td>Semitic</td>\n",
              "      <td>27.9625</td>\n",
              "      <td>43.8525</td>\n",
              "      <td>1016</td>\n",
              "      <td>751</td>\n",
              "      <td>-0,491453</td>\n",
              "      <td>endure</td>\n",
              "      <td>вытерпеть</td>\n",
              "      <td>[BSP:Schmerz]</td>\n",
              "      <td>[EX:pain]</td>\n",
              "      <td>[выдержать, НАПР:боль]</td>\n",
              "      <td>ENDURE</td>\n",
              "      <td>833</td>\n",
              "      <td>ENDURE</td>\n",
              "      <td>NaN</td>\n",
              "    </tr>\n",
              "    <tr>\n",
              "      <th>121611</th>\n",
              "      <td>heb</td>\n",
              "      <td>hebr1245</td>\n",
              "      <td>ertragen::V</td>\n",
              "      <td>סבל</td>\n",
              "      <td>saval</td>\n",
              "      <td>s a v a l</td>\n",
              "      <td>saval</td>\n",
              "      <td>SABAL</td>\n",
              "      <td>SVWVR</td>\n",
              "      <td>validate</td>\n",
              "      <td>Modern Hebrew</td>\n",
              "      <td>hebr1245</td>\n",
              "      <td>Afro-Asiatic</td>\n",
              "      <td>Semitic</td>\n",
              "      <td>31.1056</td>\n",
              "      <td>35.0179</td>\n",
              "      <td>1016</td>\n",
              "      <td>751</td>\n",
              "      <td>-0,491453</td>\n",
              "      <td>endure</td>\n",
              "      <td>вытерпеть</td>\n",
              "      <td>[BSP:Schmerz]</td>\n",
              "      <td>[EX:pain]</td>\n",
              "      <td>[выдержать, НАПР:боль]</td>\n",
              "      <td>ENDURE</td>\n",
              "      <td>833</td>\n",
              "      <td>ENDURE</td>\n",
              "      <td>NaN</td>\n",
              "    </tr>\n",
              "    <tr>\n",
              "      <th>121612</th>\n",
              "      <td>cmn</td>\n",
              "      <td>mand1415</td>\n",
              "      <td>ertragen::V</td>\n",
              "      <td>忍耐</td>\n",
              "      <td>ɻə̂̌nnâɪ̯</td>\n",
              "      <td>ɻ ə n n a ɪ</td>\n",
              "      <td>L3nai</td>\n",
              "      <td>RE2NNAI</td>\n",
              "      <td>RV1NNV</td>\n",
              "      <td>validate</td>\n",
              "      <td>Mandarin Chinese</td>\n",
              "      <td>mand1415</td>\n",
              "      <td>Sino-Tibetan</td>\n",
              "      <td>Sinitic</td>\n",
              "      <td>40.0209</td>\n",
              "      <td>116.2280</td>\n",
              "      <td>1016</td>\n",
              "      <td>751</td>\n",
              "      <td>-0,491453</td>\n",
              "      <td>endure</td>\n",
              "      <td>вытерпеть</td>\n",
              "      <td>[BSP:Schmerz]</td>\n",
              "      <td>[EX:pain]</td>\n",
              "      <td>[выдержать, НАПР:боль]</td>\n",
              "      <td>ENDURE</td>\n",
              "      <td>833</td>\n",
              "      <td>ENDURE</td>\n",
              "      <td>NaN</td>\n",
              "    </tr>\n",
              "  </tbody>\n",
              "</table>\n",
              "<p>121613 rows × 28 columns</p>\n",
              "</div>"
            ],
            "text/plain": [
              "       Language_ID Glottocode  ... concepticon_proposed comments\n",
              "0              fin   finn1318  ...                  EYE      NaN\n",
              "1              krl   kare1335  ...                  EYE      NaN\n",
              "2              olo   livv1243  ...                  EYE      NaN\n",
              "3              vep   veps1250  ...                  EYE      NaN\n",
              "4              ekk   esto1258  ...                  EYE      NaN\n",
              "...            ...        ...  ...                  ...      ...\n",
              "121608         che   chec1245  ...               ENDURE      NaN\n",
              "121609         arb   stan1318  ...               ENDURE      NaN\n",
              "121610         arb   stan1318  ...               ENDURE      NaN\n",
              "121611         heb   hebr1245  ...               ENDURE      NaN\n",
              "121612         cmn   mand1415  ...               ENDURE      NaN\n",
              "\n",
              "[121613 rows x 28 columns]"
            ]
          },
          "metadata": {}
        }
      ]
    },
    {
      "cell_type": "markdown",
      "metadata": {
        "id": "ZWS-b5Oaj7IA"
      },
      "source": [
        "In this problem set, we will make use of the `lingpy` package of tools for historical linguistics. You can find more information on this [here](https://lingpy.org/index.html). We'll start by installing the package."
      ]
    },
    {
      "cell_type": "code",
      "metadata": {
        "colab": {
          "base_uri": "https://localhost:8080/"
        },
        "id": "5_X1Ls_hkDlw",
        "outputId": "889ee30d-c97f-4ffb-a358-2331babb38a5"
      },
      "source": [
        "!pip install lingpy"
      ],
      "execution_count": 10,
      "outputs": [
        {
          "output_type": "stream",
          "name": "stdout",
          "text": [
            "Requirement already satisfied: lingpy in /usr/local/lib/python3.7/dist-packages (2.6.9)\n",
            "Requirement already satisfied: clldutils>=2.8.0 in /usr/local/lib/python3.7/dist-packages (from lingpy) (3.10.1)\n",
            "Requirement already satisfied: csvw>=1.5.6\" in /usr/local/lib/python3.7/dist-packages (from lingpy) (1.11.0)\n",
            "Requirement already satisfied: numpy in /usr/local/lib/python3.7/dist-packages (from lingpy) (1.19.5)\n",
            "Requirement already satisfied: tqdm in /usr/local/lib/python3.7/dist-packages (from lingpy) (4.62.3)\n",
            "Requirement already satisfied: pycldf>=1.7.0 in /usr/local/lib/python3.7/dist-packages (from lingpy) (1.24.0)\n",
            "Requirement already satisfied: networkx>=2.3 in /usr/local/lib/python3.7/dist-packages (from lingpy) (2.6.3)\n",
            "Requirement already satisfied: appdirs in /usr/local/lib/python3.7/dist-packages (from lingpy) (1.4.4)\n",
            "Requirement already satisfied: colorlog in /usr/local/lib/python3.7/dist-packages (from clldutils>=2.8.0->lingpy) (6.6.0)\n",
            "Requirement already satisfied: python-dateutil in /usr/local/lib/python3.7/dist-packages (from clldutils>=2.8.0->lingpy) (2.8.2)\n",
            "Requirement already satisfied: attrs>=18.1.0 in /usr/local/lib/python3.7/dist-packages (from clldutils>=2.8.0->lingpy) (21.2.0)\n",
            "Requirement already satisfied: tabulate>=0.7.7 in /usr/local/lib/python3.7/dist-packages (from clldutils>=2.8.0->lingpy) (0.8.9)\n",
            "Requirement already satisfied: rfc3986 in /usr/local/lib/python3.7/dist-packages (from csvw>=1.5.6\"->lingpy) (1.5.0)\n",
            "Requirement already satisfied: uritemplate>=3.0.0 in /usr/local/lib/python3.7/dist-packages (from csvw>=1.5.6\"->lingpy) (3.0.1)\n",
            "Requirement already satisfied: isodate in /usr/local/lib/python3.7/dist-packages (from csvw>=1.5.6\"->lingpy) (0.6.0)\n",
            "Requirement already satisfied: pybtex in /usr/local/lib/python3.7/dist-packages (from pycldf>=1.7.0->lingpy) (0.24.0)\n",
            "Requirement already satisfied: six in /usr/local/lib/python3.7/dist-packages (from isodate->csvw>=1.5.6\"->lingpy) (1.15.0)\n",
            "Requirement already satisfied: PyYAML>=3.01 in /usr/local/lib/python3.7/dist-packages (from pybtex->pycldf>=1.7.0->lingpy) (3.13)\n",
            "Requirement already satisfied: latexcodec>=1.0.4 in /usr/local/lib/python3.7/dist-packages (from pybtex->pycldf>=1.7.0->lingpy) (2.0.1)\n"
          ]
        }
      ]
    },
    {
      "cell_type": "markdown",
      "metadata": {
        "id": "G6lw4vrf4rSF"
      },
      "source": [
        "In order to make our computations below more manageable, we will focus on the Indo-european languages which you can read more about [here](https://en.wikipedia.org/wiki/Indo-European_languages). We will also focus just on the top 20 concepts as determined by their rank."
      ]
    },
    {
      "cell_type": "code",
      "metadata": {
        "colab": {
          "base_uri": "https://localhost:8080/",
          "height": 634
        },
        "id": "-n6vi-YA5iwL",
        "outputId": "6bf57b3d-0f54-4516-975a-2d19622241fb"
      },
      "source": [
        "#Problem 2a: Filter out the non-Indo-European languages from the wordforms and languages dataframes\n",
        "wordforms_lc = wordforms_lc.loc[wordforms_lc['family'] == 'Indo-European']\n",
        "languages = languages.loc[languages['family'] == 'Indo-European']\n",
        "\n",
        "#Problem 2b: Filter out the concepts which appear less than or equal to rank 20 in the concepts dataframe.\n",
        "wordforms_lc_og = wordforms_lc\n",
        "concepts_og = concepts\n",
        "\n",
        "max_rank=20\n",
        "wordforms_lc = wordforms_lc_og.loc[wordforms_lc_og['position_in_ranking'] <= max_rank]\n",
        "concepts = concepts_og.loc[concepts_og['position_in_ranking'] <= max_rank]\n",
        "\n",
        "display(wordforms_lc)"
      ],
      "execution_count": 11,
      "outputs": [
        {
          "output_type": "display_data",
          "data": {
            "text/html": [
              "<div>\n",
              "<style scoped>\n",
              "    .dataframe tbody tr th:only-of-type {\n",
              "        vertical-align: middle;\n",
              "    }\n",
              "\n",
              "    .dataframe tbody tr th {\n",
              "        vertical-align: top;\n",
              "    }\n",
              "\n",
              "    .dataframe thead th {\n",
              "        text-align: right;\n",
              "    }\n",
              "</style>\n",
              "<table border=\"1\" class=\"dataframe\">\n",
              "  <thead>\n",
              "    <tr style=\"text-align: right;\">\n",
              "      <th></th>\n",
              "      <th>Language_ID</th>\n",
              "      <th>Glottocode</th>\n",
              "      <th>Concept_ID</th>\n",
              "      <th>Word_Form</th>\n",
              "      <th>rawIPA</th>\n",
              "      <th>IPA</th>\n",
              "      <th>ASJP</th>\n",
              "      <th>List</th>\n",
              "      <th>Dolgo</th>\n",
              "      <th>Next_Step</th>\n",
              "      <th>name</th>\n",
              "      <th>glotto_code</th>\n",
              "      <th>family</th>\n",
              "      <th>subfamily</th>\n",
              "      <th>latitude</th>\n",
              "      <th>longitude</th>\n",
              "      <th>number</th>\n",
              "      <th>position_in_ranking</th>\n",
              "      <th>ranking_value</th>\n",
              "      <th>gloss_en</th>\n",
              "      <th>gloss_ru</th>\n",
              "      <th>annotation_en</th>\n",
              "      <th>annotation_en.1</th>\n",
              "      <th>annotation_ru</th>\n",
              "      <th>concepticon</th>\n",
              "      <th>concepticon_id</th>\n",
              "      <th>concepticon_proposed</th>\n",
              "      <th>comments</th>\n",
              "    </tr>\n",
              "  </thead>\n",
              "  <tbody>\n",
              "    <tr>\n",
              "      <th>7163</th>\n",
              "      <td>ben</td>\n",
              "      <td>beng1280</td>\n",
              "      <td>Wasser::N</td>\n",
              "      <td>জল</td>\n",
              "      <td>d͡ʒɔl</td>\n",
              "      <td>d͡ʒ ɔ l</td>\n",
              "      <td>jol</td>\n",
              "      <td>CUL</td>\n",
              "      <td>KVR</td>\n",
              "      <td>validate</td>\n",
              "      <td>Bengali</td>\n",
              "      <td>beng1280</td>\n",
              "      <td>Indo-European</td>\n",
              "      <td>Indo-Aryan</td>\n",
              "      <td>24.0000</td>\n",
              "      <td>90.0000</td>\n",
              "      <td>63</td>\n",
              "      <td>19</td>\n",
              "      <td>-2,92383</td>\n",
              "      <td>water</td>\n",
              "      <td>вода</td>\n",
              "      <td>[kaltes Wasser]</td>\n",
              "      <td>[cold water]</td>\n",
              "      <td>[холодная вода]</td>\n",
              "      <td>WATER</td>\n",
              "      <td>948</td>\n",
              "      <td>WATER</td>\n",
              "      <td>NaN</td>\n",
              "    </tr>\n",
              "    <tr>\n",
              "      <th>7164</th>\n",
              "      <td>hin</td>\n",
              "      <td>hind1269</td>\n",
              "      <td>Wasser::N</td>\n",
              "      <td>जल</td>\n",
              "      <td>d͡ʒəl</td>\n",
              "      <td>d͡ʒ ə l</td>\n",
              "      <td>j3l</td>\n",
              "      <td>CEL</td>\n",
              "      <td>KVR</td>\n",
              "      <td>validate</td>\n",
              "      <td>Hindi</td>\n",
              "      <td>hind1269</td>\n",
              "      <td>Indo-European</td>\n",
              "      <td>Indo-Aryan</td>\n",
              "      <td>27.2000</td>\n",
              "      <td>78.0000</td>\n",
              "      <td>63</td>\n",
              "      <td>19</td>\n",
              "      <td>-2,92383</td>\n",
              "      <td>water</td>\n",
              "      <td>вода</td>\n",
              "      <td>[kaltes Wasser]</td>\n",
              "      <td>[cold water]</td>\n",
              "      <td>[холодная вода]</td>\n",
              "      <td>WATER</td>\n",
              "      <td>948</td>\n",
              "      <td>WATER</td>\n",
              "      <td>NaN</td>\n",
              "    </tr>\n",
              "    <tr>\n",
              "      <th>7165</th>\n",
              "      <td>hin</td>\n",
              "      <td>hind1269</td>\n",
              "      <td>Wasser::N</td>\n",
              "      <td>पानी</td>\n",
              "      <td>paːniː</td>\n",
              "      <td>p a a n i i</td>\n",
              "      <td>pani</td>\n",
              "      <td>PANI</td>\n",
              "      <td>PVNV</td>\n",
              "      <td>validate</td>\n",
              "      <td>Hindi</td>\n",
              "      <td>hind1269</td>\n",
              "      <td>Indo-European</td>\n",
              "      <td>Indo-Aryan</td>\n",
              "      <td>27.2000</td>\n",
              "      <td>78.0000</td>\n",
              "      <td>63</td>\n",
              "      <td>19</td>\n",
              "      <td>-2,92383</td>\n",
              "      <td>water</td>\n",
              "      <td>вода</td>\n",
              "      <td>[kaltes Wasser]</td>\n",
              "      <td>[cold water]</td>\n",
              "      <td>[холодная вода]</td>\n",
              "      <td>WATER</td>\n",
              "      <td>948</td>\n",
              "      <td>WATER</td>\n",
              "      <td>NaN</td>\n",
              "    </tr>\n",
              "    <tr>\n",
              "      <th>7166</th>\n",
              "      <td>pbu</td>\n",
              "      <td>nort2646</td>\n",
              "      <td>Wasser::N</td>\n",
              "      <td>اوبه</td>\n",
              "      <td>oˈbə</td>\n",
              "      <td>o b ə</td>\n",
              "      <td>ob3</td>\n",
              "      <td>UPE</td>\n",
              "      <td>VPV</td>\n",
              "      <td>validate</td>\n",
              "      <td>Northern Pashto</td>\n",
              "      <td>nort2646</td>\n",
              "      <td>Indo-European</td>\n",
              "      <td>Iranian</td>\n",
              "      <td>32.1000</td>\n",
              "      <td>67.2000</td>\n",
              "      <td>63</td>\n",
              "      <td>19</td>\n",
              "      <td>-2,92383</td>\n",
              "      <td>water</td>\n",
              "      <td>вода</td>\n",
              "      <td>[kaltes Wasser]</td>\n",
              "      <td>[cold water]</td>\n",
              "      <td>[холодная вода]</td>\n",
              "      <td>WATER</td>\n",
              "      <td>948</td>\n",
              "      <td>WATER</td>\n",
              "      <td>NaN</td>\n",
              "    </tr>\n",
              "    <tr>\n",
              "      <th>7167</th>\n",
              "      <td>pes</td>\n",
              "      <td>west2369</td>\n",
              "      <td>Wasser::N</td>\n",
              "      <td>آب</td>\n",
              "      <td>ɒːb</td>\n",
              "      <td>ɒ ɒ b</td>\n",
              "      <td>ob</td>\n",
              "      <td>OP</td>\n",
              "      <td>VP</td>\n",
              "      <td>validate</td>\n",
              "      <td>Western Farsi</td>\n",
              "      <td>west2369</td>\n",
              "      <td>Indo-European</td>\n",
              "      <td>Iranian</td>\n",
              "      <td>28.6593</td>\n",
              "      <td>55.1586</td>\n",
              "      <td>63</td>\n",
              "      <td>19</td>\n",
              "      <td>-2,92383</td>\n",
              "      <td>water</td>\n",
              "      <td>вода</td>\n",
              "      <td>[kaltes Wasser]</td>\n",
              "      <td>[cold water]</td>\n",
              "      <td>[холодная вода]</td>\n",
              "      <td>WATER</td>\n",
              "      <td>948</td>\n",
              "      <td>WATER</td>\n",
              "      <td>NaN</td>\n",
              "    </tr>\n",
              "    <tr>\n",
              "      <th>...</th>\n",
              "      <td>...</td>\n",
              "      <td>...</td>\n",
              "      <td>...</td>\n",
              "      <td>...</td>\n",
              "      <td>...</td>\n",
              "      <td>...</td>\n",
              "      <td>...</td>\n",
              "      <td>...</td>\n",
              "      <td>...</td>\n",
              "      <td>...</td>\n",
              "      <td>...</td>\n",
              "      <td>...</td>\n",
              "      <td>...</td>\n",
              "      <td>...</td>\n",
              "      <td>...</td>\n",
              "      <td>...</td>\n",
              "      <td>...</td>\n",
              "      <td>...</td>\n",
              "      <td>...</td>\n",
              "      <td>...</td>\n",
              "      <td>...</td>\n",
              "      <td>...</td>\n",
              "      <td>...</td>\n",
              "      <td>...</td>\n",
              "      <td>...</td>\n",
              "      <td>...</td>\n",
              "      <td>...</td>\n",
              "      <td>...</td>\n",
              "    </tr>\n",
              "    <tr>\n",
              "      <th>107539</th>\n",
              "      <td>cat</td>\n",
              "      <td>stan1289</td>\n",
              "      <td>geben::V</td>\n",
              "      <td>donar</td>\n",
              "      <td>d̪una</td>\n",
              "      <td>d u n a</td>\n",
              "      <td>duna</td>\n",
              "      <td>TYNA</td>\n",
              "      <td>TVNV</td>\n",
              "      <td>validate</td>\n",
              "      <td>Catalan</td>\n",
              "      <td>stan1289</td>\n",
              "      <td>Indo-European</td>\n",
              "      <td>Italic</td>\n",
              "      <td>41.4530</td>\n",
              "      <td>1.5690</td>\n",
              "      <td>898</td>\n",
              "      <td>2</td>\n",
              "      <td>-3,482883</td>\n",
              "      <td>give</td>\n",
              "      <td>дать</td>\n",
              "      <td>[allgemein, BSP:Gegenstand]</td>\n",
              "      <td>[]</td>\n",
              "      <td>[]</td>\n",
              "      <td>GIVE</td>\n",
              "      <td>1447</td>\n",
              "      <td>GIVE</td>\n",
              "      <td>NaN</td>\n",
              "    </tr>\n",
              "    <tr>\n",
              "      <th>107540</th>\n",
              "      <td>spa</td>\n",
              "      <td>stan1288</td>\n",
              "      <td>geben::V</td>\n",
              "      <td>dar</td>\n",
              "      <td>daɾ</td>\n",
              "      <td>d a ɾ</td>\n",
              "      <td>dar</td>\n",
              "      <td>TAR</td>\n",
              "      <td>TVR</td>\n",
              "      <td>validate</td>\n",
              "      <td>Spanish</td>\n",
              "      <td>stan1288</td>\n",
              "      <td>Indo-European</td>\n",
              "      <td>Italic</td>\n",
              "      <td>42.2500</td>\n",
              "      <td>-3.7000</td>\n",
              "      <td>898</td>\n",
              "      <td>2</td>\n",
              "      <td>-3,482883</td>\n",
              "      <td>give</td>\n",
              "      <td>дать</td>\n",
              "      <td>[allgemein, BSP:Gegenstand]</td>\n",
              "      <td>[]</td>\n",
              "      <td>[]</td>\n",
              "      <td>GIVE</td>\n",
              "      <td>1447</td>\n",
              "      <td>GIVE</td>\n",
              "      <td>NaN</td>\n",
              "    </tr>\n",
              "    <tr>\n",
              "      <th>107541</th>\n",
              "      <td>por</td>\n",
              "      <td>port1283</td>\n",
              "      <td>geben::V</td>\n",
              "      <td>dar</td>\n",
              "      <td>dar</td>\n",
              "      <td>d a r</td>\n",
              "      <td>dar</td>\n",
              "      <td>TAR</td>\n",
              "      <td>TVR</td>\n",
              "      <td>validate</td>\n",
              "      <td>Portuguese</td>\n",
              "      <td>port1283</td>\n",
              "      <td>Indo-European</td>\n",
              "      <td>Italic</td>\n",
              "      <td>39.9100</td>\n",
              "      <td>-8.1000</td>\n",
              "      <td>898</td>\n",
              "      <td>2</td>\n",
              "      <td>-3,482883</td>\n",
              "      <td>give</td>\n",
              "      <td>дать</td>\n",
              "      <td>[allgemein, BSP:Gegenstand]</td>\n",
              "      <td>[]</td>\n",
              "      <td>[]</td>\n",
              "      <td>GIVE</td>\n",
              "      <td>1447</td>\n",
              "      <td>GIVE</td>\n",
              "      <td>NaN</td>\n",
              "    </tr>\n",
              "    <tr>\n",
              "      <th>107542</th>\n",
              "      <td>ita</td>\n",
              "      <td>ital1282</td>\n",
              "      <td>geben::V</td>\n",
              "      <td>dare</td>\n",
              "      <td>dare</td>\n",
              "      <td>d a r e</td>\n",
              "      <td>dare</td>\n",
              "      <td>TARE</td>\n",
              "      <td>TVRV</td>\n",
              "      <td>validate</td>\n",
              "      <td>Italian</td>\n",
              "      <td>ital1282</td>\n",
              "      <td>Indo-European</td>\n",
              "      <td>Italic</td>\n",
              "      <td>43.0464</td>\n",
              "      <td>12.6489</td>\n",
              "      <td>898</td>\n",
              "      <td>2</td>\n",
              "      <td>-3,482883</td>\n",
              "      <td>give</td>\n",
              "      <td>дать</td>\n",
              "      <td>[allgemein, BSP:Gegenstand]</td>\n",
              "      <td>[]</td>\n",
              "      <td>[]</td>\n",
              "      <td>GIVE</td>\n",
              "      <td>1447</td>\n",
              "      <td>GIVE</td>\n",
              "      <td>NaN</td>\n",
              "    </tr>\n",
              "    <tr>\n",
              "      <th>107543</th>\n",
              "      <td>ron</td>\n",
              "      <td>roma1327</td>\n",
              "      <td>geben::V</td>\n",
              "      <td>da</td>\n",
              "      <td>da</td>\n",
              "      <td>d a</td>\n",
              "      <td>da</td>\n",
              "      <td>TA</td>\n",
              "      <td>TV</td>\n",
              "      <td>validate</td>\n",
              "      <td>Romanian</td>\n",
              "      <td>roma1327</td>\n",
              "      <td>Indo-European</td>\n",
              "      <td>Italic</td>\n",
              "      <td>46.3913</td>\n",
              "      <td>24.2256</td>\n",
              "      <td>898</td>\n",
              "      <td>2</td>\n",
              "      <td>-3,482883</td>\n",
              "      <td>give</td>\n",
              "      <td>дать</td>\n",
              "      <td>[allgemein, BSP:Gegenstand]</td>\n",
              "      <td>[]</td>\n",
              "      <td>[]</td>\n",
              "      <td>GIVE</td>\n",
              "      <td>1447</td>\n",
              "      <td>GIVE</td>\n",
              "      <td>NaN</td>\n",
              "    </tr>\n",
              "  </tbody>\n",
              "</table>\n",
              "<p>817 rows × 28 columns</p>\n",
              "</div>"
            ],
            "text/plain": [
              "       Language_ID Glottocode  ... concepticon_proposed comments\n",
              "7163           ben   beng1280  ...                WATER      NaN\n",
              "7164           hin   hind1269  ...                WATER      NaN\n",
              "7165           hin   hind1269  ...                WATER      NaN\n",
              "7166           pbu   nort2646  ...                WATER      NaN\n",
              "7167           pes   west2369  ...                WATER      NaN\n",
              "...            ...        ...  ...                  ...      ...\n",
              "107539         cat   stan1289  ...                 GIVE      NaN\n",
              "107540         spa   stan1288  ...                 GIVE      NaN\n",
              "107541         por   port1283  ...                 GIVE      NaN\n",
              "107542         ita   ital1282  ...                 GIVE      NaN\n",
              "107543         ron   roma1327  ...                 GIVE      NaN\n",
              "\n",
              "[817 rows x 28 columns]"
            ]
          },
          "metadata": {}
        }
      ]
    },
    {
      "cell_type": "markdown",
      "metadata": {
        "id": "tb68zqmAkc7n"
      },
      "source": [
        "Our goal is to use agglomerative clustering to try to reconstruct the tree for the indoeuropean languages. You can find a reference tree (for families) [here](https://en.wikipedia.org/wiki/Indo-European_languages#/media/File:IndoEuropeanLanguageFamilyRelationsChart.jpg).\n",
        "\n",
        "In order to do this, we will need to construct a  matrix of similarities between the languages, called a confusion matrix.\n",
        "\n",
        "We will compute the (normalized) levenshtein distance between the strings for each concept for each pair of languages. For instance, we will compute the normalized levenshtein distance between the words for Auge::N (eye in English) for German and English and then similarily for all 19 other concepts. We will then average these values to find the similarity between German and English. We will do this for all pairs of languages to create a list of lists representing the confusion matrix.\n",
        "\n",
        "Note that running your code will take a few minutes."
      ]
    },
    {
      "cell_type": "code",
      "metadata": {
        "id": "hxewAkvGMzXT"
      },
      "source": [
        "import lingpy as lp\n",
        "import numpy as np"
      ],
      "execution_count": 12,
      "outputs": []
    },
    {
      "cell_type": "code",
      "metadata": {
        "colab": {
          "base_uri": "https://localhost:8080/"
        },
        "id": "0CohUtqFkiJV",
        "outputId": "ade78a4b-14e8-47a7-f41d-46b42a976425"
      },
      "source": [
        "def get_confusion_matrix(concepts):\n",
        "    print('concepts.shape:', concepts.shape)\n",
        "\n",
        "    # initialize confusion matrix\n",
        "    confusion = [[0 for j in range(len(languages))] for i in range(len(languages))]\n",
        "\n",
        "    # Problem 3: fill the confusion matrix  using the lp.align.pairwise.edit_dist function from lingpy, on the \"IPA\" fields for each language.\n",
        "    # 37 languages, 20 concepts\n",
        "    language_ids = languages[\"Language_ID\"].tolist()\n",
        "    concept_ids = concepts[\"Concept_ID\"].tolist()\n",
        "\n",
        "    for i in range(len(language_ids)):\n",
        "        for j in range(len(language_ids)):\n",
        "            language1 = language_ids[i]\n",
        "            language2 = language_ids[j]\n",
        "\n",
        "            distances=[]\n",
        "            for concept in concept_ids:\n",
        "                ipa1_list = wordforms_lc[(wordforms_lc['Language_ID'] == language1) & (wordforms_lc['Concept_ID'] == concept)]['IPA'].tolist()\n",
        "                ipa2_list = wordforms_lc[(wordforms_lc['Language_ID'] == language2) & (wordforms_lc['Concept_ID'] == concept)]['IPA'].tolist()\n",
        "\n",
        "                # exclude language pairs from calculations that don’t have the concepts and base their averages just on smaller numbers of comparison\n",
        "                if (len(ipa1_list) != 0) and (len(ipa2_list) != 0):\n",
        "                    # choose one\n",
        "                    ipa1 = ipa1_list[0]\n",
        "                    ipa2 = ipa2_list[0]\n",
        "                    \n",
        "                    distance = lp.align.pairwise.edit_dist(ipa1, ipa2, normalized=True)\n",
        "                    distances.append(distance)\n",
        "\n",
        "            avg_distance = np.average(distances)\n",
        "\n",
        "            confusion[i][j] = avg_distance\n",
        "\n",
        "    return confusion\n",
        "\n",
        "confusion = get_confusion_matrix(concepts)"
      ],
      "execution_count": 13,
      "outputs": [
        {
          "output_type": "stream",
          "name": "stdout",
          "text": [
            "concepts.shape: (20, 13)\n"
          ]
        }
      ]
    },
    {
      "cell_type": "markdown",
      "metadata": {
        "id": "8VEsX9X9kpkZ"
      },
      "source": [
        "Now that we have computed a matrix of similarities, we can use clustering algorithms to try to build phylogenetic trees representing the languages historical relationships. First, let's use the `lp.algorithm.clustering.flat_cluster` function from `lingpy` to derive a flat clustering of languages. \n"
      ]
    },
    {
      "cell_type": "code",
      "metadata": {
        "colab": {
          "base_uri": "https://localhost:8080/"
        },
        "id": "kuOZmR85kqAf",
        "outputId": "4abe9fb1-8972-4be1-8999-02c0806503cf"
      },
      "source": [
        "# language_names = list(languages[\"name\"].values)\n",
        "language_names = list(languages[\"Language_ID\"].values)\n",
        "lp.algorithm.clustering.flat_cluster('upgma', 0.6, confusion, language_names)"
      ],
      "execution_count": 14,
      "outputs": [
        {
          "output_type": "execute_result",
          "data": {
            "text/plain": [
              "{0: ['ben', 'hin'],\n",
              " 2: ['pbu', 'oss'],\n",
              " 3: ['pes', 'kmr'],\n",
              " 6: ['hye'],\n",
              " 7: ['ell'],\n",
              " 8: ['sqi'],\n",
              " 18: ['lit',\n",
              "  'lav',\n",
              "  'bul',\n",
              "  'hrv',\n",
              "  'slv',\n",
              "  'slk',\n",
              "  'pol',\n",
              "  'ces',\n",
              "  'bel',\n",
              "  'rus',\n",
              "  'ukr'],\n",
              " 20: ['isl', 'nor', 'swe', 'dan', 'deu', 'nld', 'eng'],\n",
              " 27: ['gle'],\n",
              " 28: ['cym'],\n",
              " 29: ['bre'],\n",
              " 30: ['lat'],\n",
              " 31: ['fra'],\n",
              " 32: ['cat', 'spa', 'ita', 'por', 'ron']}"
            ]
          },
          "metadata": {},
          "execution_count": 14
        }
      ]
    },
    {
      "cell_type": "markdown",
      "metadata": {
        "id": "780yD_sq9Xx_"
      },
      "source": [
        "***Question 5:*** Do you recognize any of the clusters of languages? Are there any noteworthy errors in this clustering?\n",
        "\n",
        "**Q5: The clusters of languages almost perfectly align with the subfamilies of Indo-European languages.  The only differences are that: (a) the Iranian subfamily is split into ['Northern Pashto', 'Ossetian'] and ['Western Farsi', 'Northern Kurdish'], (b) the Celtic subfamily is not grouped together, and (c) Latin and French are clustered separately from the rest of the Italic subfamily.**\n"
      ]
    },
    {
      "cell_type": "markdown",
      "metadata": {
        "id": "mxx3zF-l-DyJ"
      },
      "source": [
        "Now we will build our own dendrogram using the clustering algorithms available in [`scipy`](https://docs.scipy.org/doc/scipy/reference/cluster.hierarchy.html). You can read in particular about the [`linkage`](https://docs.scipy.org/doc/scipy/reference/generated/scipy.cluster.hierarchy.linkage.html) function and the [`dendrogram`](https://docs.scipy.org/doc/scipy/reference/generated/scipy.cluster.hierarchy.dendrogram.html) function. "
      ]
    },
    {
      "cell_type": "code",
      "metadata": {
        "id": "35ltM0lOotCO"
      },
      "source": [
        "from scipy.cluster.hierarchy import dendrogram, linkage\n",
        "from sklearn.metrics import v_measure_score\n",
        "import matplotlib.pyplot as plt"
      ],
      "execution_count": 15,
      "outputs": []
    },
    {
      "cell_type": "code",
      "metadata": {
        "colab": {
          "base_uri": "https://localhost:8080/",
          "height": 518
        },
        "id": "5wDYHMB7g2Vw",
        "outputId": "1aca1d9a-3576-4dab-ccf4-e5a7d1a2c02c"
      },
      "source": [
        "# Problem 4: use the linkage function with the average linkage method to compute the clustering.\n",
        "def hierarchical_clustering(method='average'):\n",
        "    linked = linkage(confusion, method=method)\n",
        "\n",
        "    # plot the results using dendrogram\n",
        "    def llf(id): \n",
        "        return list(languages[\"Language_ID\"].values)[id]\n",
        "\n",
        "    # plt.figure(figsize=(10, 7))\n",
        "    plt.figure(dpi=125)\n",
        "\n",
        "    dendrogram(linked,\n",
        "            p=100,\n",
        "            truncate_mode=\"level\",\n",
        "            orientation='top',\n",
        "            distance_sort='descending',\n",
        "            show_leaf_counts=False,\n",
        "            leaf_label_func=llf)\n",
        "\n",
        "    plt.show()\n",
        "\n",
        "# UPGMA\n",
        "hierarchical_clustering(method='average')"
      ],
      "execution_count": 16,
      "outputs": [
        {
          "output_type": "stream",
          "name": "stderr",
          "text": [
            "/usr/local/lib/python3.7/dist-packages/ipykernel_launcher.py:3: ClusterWarning: scipy.cluster: The symmetric non-negative hollow observation matrix looks suspiciously like an uncondensed distance matrix\n",
            "  This is separate from the ipykernel package so we can avoid doing imports until\n"
          ]
        },
        {
          "output_type": "display_data",
          "data": {
            "image/png": "[encoded data removed]",
            "text/plain": [
              "<Figure size 750x500 with 1 Axes>"
            ]
          },
          "metadata": {
            "needs_background": "light"
          }
        }
      ]
    },
    {
      "cell_type": "markdown",
      "metadata": {
        "id": "_XKrzEvlAgO5"
      },
      "source": [
        "***Question 6:*** Do you recognize any of the clusters of languages at any of the levels? Are there any noteworthy errors in this clustering?\n",
        "\n",
        "**Q6: Similar to Quesiton 5, the clusters of languages align quite well with the subfamilies of Indo-European languages. The most noteworthy error in this clustering is that Lithuanian and Latvian are not grouped with the rest of the Balto-Slavic subfamily and are rather grouped closer to Latin.  Additionally, the colours do not perfectly align with the different subfamilies: Germanic and Balto-Slavic languages are both green; Celtic, Armenic, Graeco-Phrygian, Albanian, and two Italic (French and Latin) languages are dark blue; and Iranian languages are both cyan and pink.  Compared to the flat cluster from lingpy, the dendrogram from scipy illustrates more information about the arrangement of clusters.**"
      ]
    },
    {
      "cell_type": "markdown",
      "metadata": {
        "id": "5e4N4cFQ2Gg2"
      },
      "source": [
        "***Question 7:*** Try three of the other linkage methods and describe how the change the results.\n",
        "\n",
        "**Q7: The clusters of languages from the 'complete' and 'weighted' methods align quite well with the subfamilies of Indo-European languages.  The 'complete' method had the following errors: Lithuanian and Latvian were grouped with the other Italic languages; Indo-Aryan and Iranian languages were not separated; and Armenian, Modern Greek, and Standard Albanian were not separated.  The 'weighted' method had the following errors: Lithuanian and Latvian were grouped with Latin rather than with the rest of the Balto-Slavic languages; Standard Albanian, French, Armenian, Modern Greek, and Irish were not separated; and Indo-Aryan and Iranian languages were not separated.  However, the 'centroid' method was not very good at clustering languages by subfamily.  It was only able to group together 9 out of the 11 Balto-Slavic languages, Lithuanian and Latvian, and Catalan and Portuguese.  The rest of the languages were all put in the same cluster.***"
      ]
    },
    {
      "cell_type": "code",
      "metadata": {
        "colab": {
          "base_uri": "https://localhost:8080/",
          "height": 524
        },
        "id": "8pyGX85b1_8W",
        "outputId": "974238b7-c850-4e4d-cd32-2bf884c72c86"
      },
      "source": [
        "hierarchical_clustering(method='complete')"
      ],
      "execution_count": 17,
      "outputs": [
        {
          "output_type": "stream",
          "name": "stderr",
          "text": [
            "/usr/local/lib/python3.7/dist-packages/ipykernel_launcher.py:3: ClusterWarning: scipy.cluster: The symmetric non-negative hollow observation matrix looks suspiciously like an uncondensed distance matrix\n",
            "  This is separate from the ipykernel package so we can avoid doing imports until\n"
          ]
        },
        {
          "output_type": "display_data",
          "data": {
            "image/png": "[encoded data removed]",
            "text/plain": [
              "<Figure size 750x500 with 1 Axes>"
            ]
          },
          "metadata": {
            "needs_background": "light"
          }
        }
      ]
    },
    {
      "cell_type": "code",
      "metadata": {
        "colab": {
          "base_uri": "https://localhost:8080/",
          "height": 518
        },
        "id": "VcMlkIpa8dWE",
        "outputId": "7188521f-d374-4d16-85cd-63048b0352a5"
      },
      "source": [
        "# WPGMA\n",
        "hierarchical_clustering(method='weighted')"
      ],
      "execution_count": 18,
      "outputs": [
        {
          "output_type": "stream",
          "name": "stderr",
          "text": [
            "/usr/local/lib/python3.7/dist-packages/ipykernel_launcher.py:3: ClusterWarning: scipy.cluster: The symmetric non-negative hollow observation matrix looks suspiciously like an uncondensed distance matrix\n",
            "  This is separate from the ipykernel package so we can avoid doing imports until\n"
          ]
        },
        {
          "output_type": "display_data",
          "data": {
            "image/png": "[encoded data removed]",
            "text/plain": [
              "<Figure size 750x500 with 1 Axes>"
            ]
          },
          "metadata": {
            "needs_background": "light"
          }
        }
      ]
    },
    {
      "cell_type": "code",
      "metadata": {
        "colab": {
          "base_uri": "https://localhost:8080/",
          "height": 518
        },
        "id": "dCqoNcxs9vmE",
        "outputId": "838a772c-1f21-43aa-a728-19d4b8e0ad0e"
      },
      "source": [
        "# UPGMC\n",
        "hierarchical_clustering(method='centroid')"
      ],
      "execution_count": 19,
      "outputs": [
        {
          "output_type": "stream",
          "name": "stderr",
          "text": [
            "/usr/local/lib/python3.7/dist-packages/ipykernel_launcher.py:3: ClusterWarning: scipy.cluster: The symmetric non-negative hollow observation matrix looks suspiciously like an uncondensed distance matrix\n",
            "  This is separate from the ipykernel package so we can avoid doing imports until\n"
          ]
        },
        {
          "output_type": "display_data",
          "data": {
            "image/png": "[encoded data removed]",
            "text/plain": [
              "<Figure size 750x500 with 1 Axes>"
            ]
          },
          "metadata": {
            "needs_background": "light"
          }
        }
      ]
    },
    {
      "cell_type": "markdown",
      "metadata": {
        "id": "ghD3thtg2RYu"
      },
      "source": [
        "***Question 8:*** Try increasing the number of concepts we use to compute our confusion matrix to be higher than 20. Does it change the results?\n",
        "\n",
        "**Q8: Increasing the number of concepts to be higher than 20 does not change the results: both the flat cluster dictionary and the dendrogram plot remain the same.  This makes sense because we were already using a relatively high number of concepts to compute our confusion matrix.  If we had started with a lower number of concepts (i.e. max_rank=5), increasing the number of concepts might have changed the results.**\n"
      ]
    },
    {
      "cell_type": "code",
      "metadata": {
        "id": "kfNg3FtU2F3D"
      },
      "source": [
        "def change_concepts(wordforms_lc_og, concepts_og, max_rank=20):\n",
        "    max_rank = max_rank\n",
        "    wordforms_lc = wordforms_lc_og.loc[wordforms_lc_og['position_in_ranking'] <= max_rank]\n",
        "    concepts = concepts_og.loc[concepts_og['position_in_ranking'] <= max_rank]\n",
        "\n",
        "    confusion = get_confusion_matrix(concepts)\n",
        "\n",
        "    language_names = list(languages[\"Language_ID\"].values)\n",
        "    display(lp.algorithm.clustering.flat_cluster('upgma', 0.6, confusion, language_names))\n",
        "    print()\n",
        "\n",
        "    hierarchical_clustering(method='average')"
      ],
      "execution_count": 20,
      "outputs": []
    },
    {
      "cell_type": "code",
      "metadata": {
        "colab": {
          "base_uri": "https://localhost:8080/",
          "height": 998
        },
        "id": "F-w1SBOUPfHh",
        "outputId": "1ebc5057-2bfb-4b5e-f46f-2683fc42cc94"
      },
      "source": [
        "change_concepts(wordforms_lc_og, concepts_og, max_rank=30)"
      ],
      "execution_count": 21,
      "outputs": [
        {
          "output_type": "stream",
          "name": "stdout",
          "text": [
            "concepts.shape: (30, 13)\n"
          ]
        },
        {
          "output_type": "display_data",
          "data": {
            "text/plain": [
              "{0: ['ben', 'hin'],\n",
              " 2: ['pbu', 'oss'],\n",
              " 3: ['pes', 'kmr'],\n",
              " 6: ['hye'],\n",
              " 7: ['ell'],\n",
              " 8: ['sqi'],\n",
              " 18: ['lit',\n",
              "  'lav',\n",
              "  'bul',\n",
              "  'hrv',\n",
              "  'slv',\n",
              "  'slk',\n",
              "  'pol',\n",
              "  'ces',\n",
              "  'bel',\n",
              "  'rus',\n",
              "  'ukr'],\n",
              " 20: ['isl', 'nor', 'swe', 'dan', 'deu', 'nld', 'eng'],\n",
              " 27: ['gle'],\n",
              " 28: ['cym'],\n",
              " 29: ['bre'],\n",
              " 30: ['lat'],\n",
              " 31: ['fra'],\n",
              " 32: ['cat', 'spa', 'ita', 'por', 'ron']}"
            ]
          },
          "metadata": {}
        },
        {
          "output_type": "stream",
          "name": "stdout",
          "text": [
            "\n"
          ]
        },
        {
          "output_type": "stream",
          "name": "stderr",
          "text": [
            "/usr/local/lib/python3.7/dist-packages/ipykernel_launcher.py:3: ClusterWarning: scipy.cluster: The symmetric non-negative hollow observation matrix looks suspiciously like an uncondensed distance matrix\n",
            "  This is separate from the ipykernel package so we can avoid doing imports until\n"
          ]
        },
        {
          "output_type": "display_data",
          "data": {
            "image/png": "[encoded data removed]",
            "text/plain": [
              "<Figure size 750x500 with 1 Axes>"
            ]
          },
          "metadata": {
            "needs_background": "light"
          }
        }
      ]
    },
    {
      "cell_type": "code",
      "metadata": {
        "colab": {
          "base_uri": "https://localhost:8080/",
          "height": 998
        },
        "id": "hnEuf6LjPkBP",
        "outputId": "07828374-dbaf-45bd-bd17-dc27a15b1d7c"
      },
      "source": [
        "change_concepts(wordforms_lc_og, concepts_og, max_rank=50)"
      ],
      "execution_count": 22,
      "outputs": [
        {
          "output_type": "stream",
          "name": "stdout",
          "text": [
            "concepts.shape: (50, 13)\n"
          ]
        },
        {
          "output_type": "display_data",
          "data": {
            "text/plain": [
              "{0: ['ben', 'hin'],\n",
              " 2: ['pbu', 'oss'],\n",
              " 3: ['pes', 'kmr'],\n",
              " 6: ['hye'],\n",
              " 7: ['ell'],\n",
              " 8: ['sqi'],\n",
              " 18: ['lit',\n",
              "  'lav',\n",
              "  'bul',\n",
              "  'hrv',\n",
              "  'slv',\n",
              "  'slk',\n",
              "  'pol',\n",
              "  'ces',\n",
              "  'bel',\n",
              "  'rus',\n",
              "  'ukr'],\n",
              " 20: ['isl', 'nor', 'swe', 'dan', 'deu', 'nld', 'eng'],\n",
              " 27: ['gle'],\n",
              " 28: ['cym'],\n",
              " 29: ['bre'],\n",
              " 30: ['lat'],\n",
              " 31: ['fra'],\n",
              " 32: ['cat', 'spa', 'ita', 'por', 'ron']}"
            ]
          },
          "metadata": {}
        },
        {
          "output_type": "stream",
          "name": "stdout",
          "text": [
            "\n"
          ]
        },
        {
          "output_type": "stream",
          "name": "stderr",
          "text": [
            "/usr/local/lib/python3.7/dist-packages/ipykernel_launcher.py:3: ClusterWarning: scipy.cluster: The symmetric non-negative hollow observation matrix looks suspiciously like an uncondensed distance matrix\n",
            "  This is separate from the ipykernel package so we can avoid doing imports until\n"
          ]
        },
        {
          "output_type": "display_data",
          "data": {
            "image/png": "[encoded data removed]",
            "text/plain": [
              "<Figure size 750x500 with 1 Axes>"
            ]
          },
          "metadata": {
            "needs_background": "light"
          }
        }
      ]
    },
    {
      "cell_type": "code",
      "metadata": {
        "colab": {
          "base_uri": "https://localhost:8080/",
          "height": 998
        },
        "id": "Ix7wnOM6PnaY",
        "outputId": "5d8f629e-2d4d-4718-da73-a63dbeb22181"
      },
      "source": [
        "change_concepts(wordforms_lc_og, concepts_og, max_rank=100)"
      ],
      "execution_count": 23,
      "outputs": [
        {
          "output_type": "stream",
          "name": "stdout",
          "text": [
            "concepts.shape: (100, 13)\n"
          ]
        },
        {
          "output_type": "display_data",
          "data": {
            "text/plain": [
              "{0: ['ben', 'hin'],\n",
              " 2: ['pbu', 'oss'],\n",
              " 3: ['pes', 'kmr'],\n",
              " 6: ['hye'],\n",
              " 7: ['ell'],\n",
              " 8: ['sqi'],\n",
              " 18: ['lit',\n",
              "  'lav',\n",
              "  'bul',\n",
              "  'hrv',\n",
              "  'slv',\n",
              "  'slk',\n",
              "  'pol',\n",
              "  'ces',\n",
              "  'bel',\n",
              "  'rus',\n",
              "  'ukr'],\n",
              " 20: ['isl', 'nor', 'swe', 'dan', 'deu', 'nld', 'eng'],\n",
              " 27: ['gle'],\n",
              " 28: ['cym'],\n",
              " 29: ['bre'],\n",
              " 30: ['lat'],\n",
              " 31: ['fra'],\n",
              " 32: ['cat', 'spa', 'ita', 'por', 'ron']}"
            ]
          },
          "metadata": {}
        },
        {
          "output_type": "stream",
          "name": "stdout",
          "text": [
            "\n"
          ]
        },
        {
          "output_type": "stream",
          "name": "stderr",
          "text": [
            "/usr/local/lib/python3.7/dist-packages/ipykernel_launcher.py:3: ClusterWarning: scipy.cluster: The symmetric non-negative hollow observation matrix looks suspiciously like an uncondensed distance matrix\n",
            "  This is separate from the ipykernel package so we can avoid doing imports until\n"
          ]
        },
        {
          "output_type": "display_data",
          "data": {
            "image/png": "[encoded data removed]",
            "text/plain": [
              "<Figure size 750x500 with 1 Axes>"
            ]
          },
          "metadata": {
            "needs_background": "light"
          }
        }
      ]
    }
  ]
}